{
 "cells": [
  {
   "cell_type": "markdown",
   "metadata": {},
   "source": [
    "This part is working to:\n",
    "1. Gain a preliminary understanding of data\n",
    "2. Merge the files"
   ]
  },
  {
   "cell_type": "code",
   "execution_count": 1,
   "metadata": {
    "tags": []
   },
   "outputs": [],
   "source": [
    "# Core\n",
    "import pandas as pd\n",
    "import numpy as np\n",
    "\n",
    "# Data Visualisation\n",
    "import matplotlib.pyplot as plt\n",
    "import glob\n",
    "# import seaborn as sns\n",
    "# %matplotlib inline\n",
    "from matplotlib_venn import venn3"
   ]
  },
  {
   "cell_type": "code",
   "execution_count": 2,
   "metadata": {},
   "outputs": [
    {
     "name": "stdout",
     "output_type": "stream",
     "text": [
      "['../data/Data_budget.csv', '../data/Data_account.csv', '../data/Data_Transaction.csv']\n"
     ]
    }
   ],
   "source": [
    "file_paths=glob.glob(\"../data/*.csv\")\n",
    "print(file_paths)\n",
    "data_budget=pd.read_csv(file_paths[0])\n",
    "data_account=pd.read_csv(file_paths[1])\n",
    "data_transaction=pd.read_csv(file_paths[2])"
   ]
  },
  {
   "cell_type": "markdown",
   "metadata": {},
   "source": [
    "## 1. Analyse data_budget"
   ]
  },
  {
   "cell_type": "markdown",
   "metadata": {},
   "source": [
    "### 1.1 Preliminary analyse"
   ]
  },
  {
   "cell_type": "code",
   "execution_count": 3,
   "metadata": {},
   "outputs": [
    {
     "data": {
      "text/html": [
       "<div>\n",
       "<style scoped>\n",
       "    .dataframe tbody tr th:only-of-type {\n",
       "        vertical-align: middle;\n",
       "    }\n",
       "\n",
       "    .dataframe tbody tr th {\n",
       "        vertical-align: top;\n",
       "    }\n",
       "\n",
       "    .dataframe thead th {\n",
       "        text-align: right;\n",
       "    }\n",
       "</style>\n",
       "<table border=\"1\" class=\"dataframe\">\n",
       "  <thead>\n",
       "    <tr style=\"text-align: right;\">\n",
       "      <th></th>\n",
       "      <th>currency</th>\n",
       "      <th>budget</th>\n",
       "      <th>status</th>\n",
       "      <th>budget_cut_weekly</th>\n",
       "      <th>goal_id</th>\n",
       "      <th>wealth_growth</th>\n",
       "      <th>monthly_max_saving</th>\n",
       "      <th>budget_daily</th>\n",
       "      <th>feasible</th>\n",
       "      <th>budget_monthly</th>\n",
       "      <th>...</th>\n",
       "      <th>start_date</th>\n",
       "      <th>category</th>\n",
       "      <th>monthly_avg_income</th>\n",
       "      <th>amount</th>\n",
       "      <th>budget_cut_daily</th>\n",
       "      <th>current_goal_budget_cut_by_day</th>\n",
       "      <th>budget_weekly</th>\n",
       "      <th>snapshot</th>\n",
       "      <th>goal_name</th>\n",
       "      <th>remarks</th>\n",
       "    </tr>\n",
       "  </thead>\n",
       "  <tbody>\n",
       "    <tr>\n",
       "      <th>0</th>\n",
       "      <td>USD</td>\n",
       "      <td>{'Others': {'budget_weekly': 1.984466361099931...</td>\n",
       "      <td>In progress</td>\n",
       "      <td>35.280294</td>\n",
       "      <td>23068219672</td>\n",
       "      <td>0.0</td>\n",
       "      <td>-167.438712</td>\n",
       "      <td>0.112001</td>\n",
       "      <td>False</td>\n",
       "      <td>3.360028</td>\n",
       "      <td>...</td>\n",
       "      <td>2021-05-15</td>\n",
       "      <td>Saving</td>\n",
       "      <td>154.561288</td>\n",
       "      <td>463.683864</td>\n",
       "      <td>5.040042</td>\n",
       "      <td>5.040042</td>\n",
       "      <td>0.784007</td>\n",
       "      <td>{'monthly': {'budget_monthly': 3.360028, 'amou...</td>\n",
       "      <td>Emergency Fund</td>\n",
       "      <td>Your Emergency Fund for 3 months</td>\n",
       "    </tr>\n",
       "    <tr>\n",
       "      <th>1</th>\n",
       "      <td>HKD</td>\n",
       "      <td>{'Others': {'budget_weekly': 3.19084248957671,...</td>\n",
       "      <td>In progress</td>\n",
       "      <td>29.083871</td>\n",
       "      <td>83968004351</td>\n",
       "      <td>0.0</td>\n",
       "      <td>-167.438712</td>\n",
       "      <td>0.997204</td>\n",
       "      <td>False</td>\n",
       "      <td>29.916127</td>\n",
       "      <td>...</td>\n",
       "      <td>2021-05-15</td>\n",
       "      <td>Dining</td>\n",
       "      <td>154.561288</td>\n",
       "      <td>1000.000000</td>\n",
       "      <td>4.154839</td>\n",
       "      <td>4.154839</td>\n",
       "      <td>6.980430</td>\n",
       "      <td>{'monthly': {'budget_monthly': 29.916126709677...</td>\n",
       "      <td>cheaper food</td>\n",
       "      <td>NaN</td>\n",
       "    </tr>\n",
       "    <tr>\n",
       "      <th>2</th>\n",
       "      <td>USD</td>\n",
       "      <td>{'Others': {'budget_weekly': 1.984466361099931...</td>\n",
       "      <td>In progress</td>\n",
       "      <td>35.280294</td>\n",
       "      <td>23068219672</td>\n",
       "      <td>0.0</td>\n",
       "      <td>-167.438712</td>\n",
       "      <td>0.112001</td>\n",
       "      <td>False</td>\n",
       "      <td>3.360028</td>\n",
       "      <td>...</td>\n",
       "      <td>2021-05-15</td>\n",
       "      <td>Saving</td>\n",
       "      <td>154.561288</td>\n",
       "      <td>463.683864</td>\n",
       "      <td>5.040042</td>\n",
       "      <td>5.040042</td>\n",
       "      <td>0.784007</td>\n",
       "      <td>{'monthly': {'budget_monthly': 3.360028, 'amou...</td>\n",
       "      <td>Emergency Fund</td>\n",
       "      <td>Your Emergency Fund for 3 months</td>\n",
       "    </tr>\n",
       "    <tr>\n",
       "      <th>3</th>\n",
       "      <td>HKD</td>\n",
       "      <td>{'Others': {'budget_weekly': 3.19084248957671,...</td>\n",
       "      <td>In progress</td>\n",
       "      <td>29.083871</td>\n",
       "      <td>83968004351</td>\n",
       "      <td>0.0</td>\n",
       "      <td>-167.438712</td>\n",
       "      <td>0.997204</td>\n",
       "      <td>False</td>\n",
       "      <td>29.916127</td>\n",
       "      <td>...</td>\n",
       "      <td>2021-05-15</td>\n",
       "      <td>Dining</td>\n",
       "      <td>154.561288</td>\n",
       "      <td>1000.000000</td>\n",
       "      <td>4.154839</td>\n",
       "      <td>4.154839</td>\n",
       "      <td>6.980430</td>\n",
       "      <td>{'monthly': {'budget_monthly': 29.916126709677...</td>\n",
       "      <td>cheaper food</td>\n",
       "      <td>NaN</td>\n",
       "    </tr>\n",
       "    <tr>\n",
       "      <th>4</th>\n",
       "      <td>USD</td>\n",
       "      <td>{'Others': {'budget_weekly': 1.984466361099931...</td>\n",
       "      <td>In progress</td>\n",
       "      <td>35.280294</td>\n",
       "      <td>23068219672</td>\n",
       "      <td>0.0</td>\n",
       "      <td>-167.438712</td>\n",
       "      <td>0.112001</td>\n",
       "      <td>False</td>\n",
       "      <td>3.360028</td>\n",
       "      <td>...</td>\n",
       "      <td>2021-05-15</td>\n",
       "      <td>Saving</td>\n",
       "      <td>154.561288</td>\n",
       "      <td>463.683864</td>\n",
       "      <td>5.040042</td>\n",
       "      <td>5.040042</td>\n",
       "      <td>0.784007</td>\n",
       "      <td>{'monthly': {'budget_monthly': 3.360028, 'amou...</td>\n",
       "      <td>Emergency Fund</td>\n",
       "      <td>Your Emergency Fund for 3 months</td>\n",
       "    </tr>\n",
       "  </tbody>\n",
       "</table>\n",
       "<p>5 rows × 31 columns</p>\n",
       "</div>"
      ],
      "text/plain": [
       "  currency                                             budget       status  \\\n",
       "0      USD  {'Others': {'budget_weekly': 1.984466361099931...  In progress   \n",
       "1      HKD  {'Others': {'budget_weekly': 3.19084248957671,...  In progress   \n",
       "2      USD  {'Others': {'budget_weekly': 1.984466361099931...  In progress   \n",
       "3      HKD  {'Others': {'budget_weekly': 3.19084248957671,...  In progress   \n",
       "4      USD  {'Others': {'budget_weekly': 1.984466361099931...  In progress   \n",
       "\n",
       "   budget_cut_weekly      goal_id  wealth_growth  monthly_max_saving  \\\n",
       "0          35.280294  23068219672            0.0         -167.438712   \n",
       "1          29.083871  83968004351            0.0         -167.438712   \n",
       "2          35.280294  23068219672            0.0         -167.438712   \n",
       "3          29.083871  83968004351            0.0         -167.438712   \n",
       "4          35.280294  23068219672            0.0         -167.438712   \n",
       "\n",
       "   budget_daily  feasible  budget_monthly  ...  start_date  category  \\\n",
       "0      0.112001     False        3.360028  ...  2021-05-15    Saving   \n",
       "1      0.997204     False       29.916127  ...  2021-05-15    Dining   \n",
       "2      0.112001     False        3.360028  ...  2021-05-15    Saving   \n",
       "3      0.997204     False       29.916127  ...  2021-05-15    Dining   \n",
       "4      0.112001     False        3.360028  ...  2021-05-15    Saving   \n",
       "\n",
       "  monthly_avg_income       amount  budget_cut_daily  \\\n",
       "0         154.561288   463.683864          5.040042   \n",
       "1         154.561288  1000.000000          4.154839   \n",
       "2         154.561288   463.683864          5.040042   \n",
       "3         154.561288  1000.000000          4.154839   \n",
       "4         154.561288   463.683864          5.040042   \n",
       "\n",
       "   current_goal_budget_cut_by_day  budget_weekly  \\\n",
       "0                        5.040042       0.784007   \n",
       "1                        4.154839       6.980430   \n",
       "2                        5.040042       0.784007   \n",
       "3                        4.154839       6.980430   \n",
       "4                        5.040042       0.784007   \n",
       "\n",
       "                                            snapshot       goal_name  \\\n",
       "0  {'monthly': {'budget_monthly': 3.360028, 'amou...  Emergency Fund   \n",
       "1  {'monthly': {'budget_monthly': 29.916126709677...    cheaper food   \n",
       "2  {'monthly': {'budget_monthly': 3.360028, 'amou...  Emergency Fund   \n",
       "3  {'monthly': {'budget_monthly': 29.916126709677...    cheaper food   \n",
       "4  {'monthly': {'budget_monthly': 3.360028, 'amou...  Emergency Fund   \n",
       "\n",
       "                            remarks  \n",
       "0  Your Emergency Fund for 3 months  \n",
       "1                               NaN  \n",
       "2  Your Emergency Fund for 3 months  \n",
       "3                               NaN  \n",
       "4  Your Emergency Fund for 3 months  \n",
       "\n",
       "[5 rows x 31 columns]"
      ]
     },
     "execution_count": 3,
     "metadata": {},
     "output_type": "execute_result"
    }
   ],
   "source": [
    "data_budget.head()"
   ]
  },
  {
   "cell_type": "code",
   "execution_count": 4,
   "metadata": {},
   "outputs": [
    {
     "data": {
      "text/plain": [
       "Index(['currency', 'budget', 'status', 'budget_cut_weekly', 'goal_id',\n",
       "       'wealth_growth', 'monthly_max_saving', 'budget_daily', 'feasible',\n",
       "       'budget_monthly', 'psid', 'saved_amount', 'created_at', 'diff2target',\n",
       "       'monthly_min_expense', 'completion_rate', 'budget_cut_monthly',\n",
       "       'due_date', 'updated_at', 'difficulty_idx', 'delta', 'start_date',\n",
       "       'category', 'monthly_avg_income', 'amount', 'budget_cut_daily',\n",
       "       'current_goal_budget_cut_by_day', 'budget_weekly', 'snapshot',\n",
       "       'goal_name', 'remarks'],\n",
       "      dtype='object')"
      ]
     },
     "execution_count": 4,
     "metadata": {},
     "output_type": "execute_result"
    }
   ],
   "source": [
    "data_budget.columns"
   ]
  },
  {
   "cell_type": "code",
   "execution_count": 5,
   "metadata": {},
   "outputs": [
    {
     "data": {
      "text/html": [
       "<div>\n",
       "<style scoped>\n",
       "    .dataframe tbody tr th:only-of-type {\n",
       "        vertical-align: middle;\n",
       "    }\n",
       "\n",
       "    .dataframe tbody tr th {\n",
       "        vertical-align: top;\n",
       "    }\n",
       "\n",
       "    .dataframe thead th {\n",
       "        text-align: right;\n",
       "    }\n",
       "</style>\n",
       "<table border=\"1\" class=\"dataframe\">\n",
       "  <thead>\n",
       "    <tr style=\"text-align: right;\">\n",
       "      <th></th>\n",
       "      <th>budget_cut_weekly</th>\n",
       "      <th>goal_id</th>\n",
       "      <th>wealth_growth</th>\n",
       "      <th>monthly_max_saving</th>\n",
       "      <th>budget_daily</th>\n",
       "      <th>budget_monthly</th>\n",
       "      <th>saved_amount</th>\n",
       "      <th>diff2target</th>\n",
       "      <th>monthly_min_expense</th>\n",
       "      <th>completion_rate</th>\n",
       "      <th>budget_cut_monthly</th>\n",
       "      <th>difficulty_idx</th>\n",
       "      <th>delta</th>\n",
       "      <th>monthly_avg_income</th>\n",
       "      <th>amount</th>\n",
       "      <th>budget_cut_daily</th>\n",
       "      <th>current_goal_budget_cut_by_day</th>\n",
       "      <th>budget_weekly</th>\n",
       "    </tr>\n",
       "  </thead>\n",
       "  <tbody>\n",
       "    <tr>\n",
       "      <th>count</th>\n",
       "      <td>4.472000e+03</td>\n",
       "      <td>4.472000e+03</td>\n",
       "      <td>4472.000000</td>\n",
       "      <td>4472.000000</td>\n",
       "      <td>4.472000e+03</td>\n",
       "      <td>4.472000e+03</td>\n",
       "      <td>4.472000e+03</td>\n",
       "      <td>4.472000e+03</td>\n",
       "      <td>4472.000000</td>\n",
       "      <td>4472.000000</td>\n",
       "      <td>4.472000e+03</td>\n",
       "      <td>4472.000000</td>\n",
       "      <td>4472.000000</td>\n",
       "      <td>4472.000000</td>\n",
       "      <td>4.472000e+03</td>\n",
       "      <td>4.472000e+03</td>\n",
       "      <td>4.472000e+03</td>\n",
       "      <td>4.472000e+03</td>\n",
       "    </tr>\n",
       "    <tr>\n",
       "      <th>mean</th>\n",
       "      <td>5.485044e+05</td>\n",
       "      <td>5.474763e+10</td>\n",
       "      <td>6.026433</td>\n",
       "      <td>3441.634911</td>\n",
       "      <td>-7.821544e+04</td>\n",
       "      <td>-2.346463e+06</td>\n",
       "      <td>7.821675e+04</td>\n",
       "      <td>9.597608e+04</td>\n",
       "      <td>1119.924530</td>\n",
       "      <td>0.332089</td>\n",
       "      <td>2.351025e+06</td>\n",
       "      <td>5.057916</td>\n",
       "      <td>64.152057</td>\n",
       "      <td>4561.559441</td>\n",
       "      <td>6.229693e+05</td>\n",
       "      <td>7.836749e+04</td>\n",
       "      <td>7.834242e+04</td>\n",
       "      <td>-5.475081e+05</td>\n",
       "    </tr>\n",
       "    <tr>\n",
       "      <th>std</th>\n",
       "      <td>2.148585e+06</td>\n",
       "      <td>2.682073e+10</td>\n",
       "      <td>23.715659</td>\n",
       "      <td>3858.039011</td>\n",
       "      <td>3.069583e+05</td>\n",
       "      <td>9.208750e+06</td>\n",
       "      <td>3.069698e+05</td>\n",
       "      <td>3.265901e+05</td>\n",
       "      <td>1460.172946</td>\n",
       "      <td>0.428168</td>\n",
       "      <td>9.208148e+06</td>\n",
       "      <td>4.474686</td>\n",
       "      <td>48.548796</td>\n",
       "      <td>3840.569917</td>\n",
       "      <td>2.380396e+06</td>\n",
       "      <td>3.069383e+05</td>\n",
       "      <td>3.069446e+05</td>\n",
       "      <td>2.148708e+06</td>\n",
       "    </tr>\n",
       "    <tr>\n",
       "      <th>min</th>\n",
       "      <td>1.822800e-02</td>\n",
       "      <td>2.462845e+09</td>\n",
       "      <td>0.000000</td>\n",
       "      <td>-6556.870544</td>\n",
       "      <td>-1.288927e+06</td>\n",
       "      <td>-3.866780e+07</td>\n",
       "      <td>0.000000e+00</td>\n",
       "      <td>0.000000e+00</td>\n",
       "      <td>51.804500</td>\n",
       "      <td>0.000000</td>\n",
       "      <td>7.812000e-02</td>\n",
       "      <td>0.000000</td>\n",
       "      <td>1.000000</td>\n",
       "      <td>0.079856</td>\n",
       "      <td>2.395680e-01</td>\n",
       "      <td>2.604000e-03</td>\n",
       "      <td>2.604000e-03</td>\n",
       "      <td>-9.022486e+06</td>\n",
       "    </tr>\n",
       "    <tr>\n",
       "      <th>25%</th>\n",
       "      <td>2.041993e+01</td>\n",
       "      <td>3.086210e+10</td>\n",
       "      <td>0.000000</td>\n",
       "      <td>37.654231</td>\n",
       "      <td>4.734800e-01</td>\n",
       "      <td>1.420440e+01</td>\n",
       "      <td>0.000000e+00</td>\n",
       "      <td>0.000000e+00</td>\n",
       "      <td>103.040000</td>\n",
       "      <td>0.000000</td>\n",
       "      <td>8.751398e+01</td>\n",
       "      <td>0.000000</td>\n",
       "      <td>21.000000</td>\n",
       "      <td>154.561288</td>\n",
       "      <td>2.683762e+02</td>\n",
       "      <td>2.917133e+00</td>\n",
       "      <td>2.917133e+00</td>\n",
       "      <td>3.314360e+00</td>\n",
       "    </tr>\n",
       "    <tr>\n",
       "      <th>50%</th>\n",
       "      <td>1.680889e+02</td>\n",
       "      <td>5.413767e+10</td>\n",
       "      <td>0.005675</td>\n",
       "      <td>2099.440000</td>\n",
       "      <td>7.334410e+01</td>\n",
       "      <td>2.200323e+03</td>\n",
       "      <td>7.341600e+01</td>\n",
       "      <td>5.012546e+01</td>\n",
       "      <td>1379.712040</td>\n",
       "      <td>0.122159</td>\n",
       "      <td>9.432893e+02</td>\n",
       "      <td>4.000000</td>\n",
       "      <td>77.000000</td>\n",
       "      <td>2204.190000</td>\n",
       "      <td>1.200000e+03</td>\n",
       "      <td>3.144298e+01</td>\n",
       "      <td>1.098266e+01</td>\n",
       "      <td>5.134087e+02</td>\n",
       "    </tr>\n",
       "    <tr>\n",
       "      <th>75%</th>\n",
       "      <td>5.785406e+02</td>\n",
       "      <td>7.411549e+10</td>\n",
       "      <td>0.023538</td>\n",
       "      <td>7794.821440</td>\n",
       "      <td>2.011392e+02</td>\n",
       "      <td>6.034176e+03</td>\n",
       "      <td>1.046947e+03</td>\n",
       "      <td>1.103354e+03</td>\n",
       "      <td>1380.783245</td>\n",
       "      <td>1.000000</td>\n",
       "      <td>3.296703e+03</td>\n",
       "      <td>10.000000</td>\n",
       "      <td>92.000000</td>\n",
       "      <td>9174.533480</td>\n",
       "      <td>1.000000e+04</td>\n",
       "      <td>1.098901e+02</td>\n",
       "      <td>2.255750e+01</td>\n",
       "      <td>1.407974e+03</td>\n",
       "    </tr>\n",
       "    <tr>\n",
       "      <th>max</th>\n",
       "      <td>9.023000e+06</td>\n",
       "      <td>9.543142e+10</td>\n",
       "      <td>99.574022</td>\n",
       "      <td>7800.872031</td>\n",
       "      <td>2.698503e+02</td>\n",
       "      <td>8.095509e+03</td>\n",
       "      <td>1.289072e+06</td>\n",
       "      <td>1.288935e+06</td>\n",
       "      <td>6556.950400</td>\n",
       "      <td>1.000000</td>\n",
       "      <td>3.867000e+07</td>\n",
       "      <td>10.000000</td>\n",
       "      <td>177.000000</td>\n",
       "      <td>9181.655276</td>\n",
       "      <td>1.000000e+07</td>\n",
       "      <td>1.289000e+06</td>\n",
       "      <td>1.289000e+06</td>\n",
       "      <td>1.888952e+03</td>\n",
       "    </tr>\n",
       "  </tbody>\n",
       "</table>\n",
       "</div>"
      ],
      "text/plain": [
       "       budget_cut_weekly       goal_id  wealth_growth  monthly_max_saving  \\\n",
       "count       4.472000e+03  4.472000e+03    4472.000000         4472.000000   \n",
       "mean        5.485044e+05  5.474763e+10       6.026433         3441.634911   \n",
       "std         2.148585e+06  2.682073e+10      23.715659         3858.039011   \n",
       "min         1.822800e-02  2.462845e+09       0.000000        -6556.870544   \n",
       "25%         2.041993e+01  3.086210e+10       0.000000           37.654231   \n",
       "50%         1.680889e+02  5.413767e+10       0.005675         2099.440000   \n",
       "75%         5.785406e+02  7.411549e+10       0.023538         7794.821440   \n",
       "max         9.023000e+06  9.543142e+10      99.574022         7800.872031   \n",
       "\n",
       "       budget_daily  budget_monthly  saved_amount   diff2target  \\\n",
       "count  4.472000e+03    4.472000e+03  4.472000e+03  4.472000e+03   \n",
       "mean  -7.821544e+04   -2.346463e+06  7.821675e+04  9.597608e+04   \n",
       "std    3.069583e+05    9.208750e+06  3.069698e+05  3.265901e+05   \n",
       "min   -1.288927e+06   -3.866780e+07  0.000000e+00  0.000000e+00   \n",
       "25%    4.734800e-01    1.420440e+01  0.000000e+00  0.000000e+00   \n",
       "50%    7.334410e+01    2.200323e+03  7.341600e+01  5.012546e+01   \n",
       "75%    2.011392e+02    6.034176e+03  1.046947e+03  1.103354e+03   \n",
       "max    2.698503e+02    8.095509e+03  1.289072e+06  1.288935e+06   \n",
       "\n",
       "       monthly_min_expense  completion_rate  budget_cut_monthly  \\\n",
       "count          4472.000000      4472.000000        4.472000e+03   \n",
       "mean           1119.924530         0.332089        2.351025e+06   \n",
       "std            1460.172946         0.428168        9.208148e+06   \n",
       "min              51.804500         0.000000        7.812000e-02   \n",
       "25%             103.040000         0.000000        8.751398e+01   \n",
       "50%            1379.712040         0.122159        9.432893e+02   \n",
       "75%            1380.783245         1.000000        3.296703e+03   \n",
       "max            6556.950400         1.000000        3.867000e+07   \n",
       "\n",
       "       difficulty_idx        delta  monthly_avg_income        amount  \\\n",
       "count     4472.000000  4472.000000         4472.000000  4.472000e+03   \n",
       "mean         5.057916    64.152057         4561.559441  6.229693e+05   \n",
       "std          4.474686    48.548796         3840.569917  2.380396e+06   \n",
       "min          0.000000     1.000000            0.079856  2.395680e-01   \n",
       "25%          0.000000    21.000000          154.561288  2.683762e+02   \n",
       "50%          4.000000    77.000000         2204.190000  1.200000e+03   \n",
       "75%         10.000000    92.000000         9174.533480  1.000000e+04   \n",
       "max         10.000000   177.000000         9181.655276  1.000000e+07   \n",
       "\n",
       "       budget_cut_daily  current_goal_budget_cut_by_day  budget_weekly  \n",
       "count      4.472000e+03                    4.472000e+03   4.472000e+03  \n",
       "mean       7.836749e+04                    7.834242e+04  -5.475081e+05  \n",
       "std        3.069383e+05                    3.069446e+05   2.148708e+06  \n",
       "min        2.604000e-03                    2.604000e-03  -9.022486e+06  \n",
       "25%        2.917133e+00                    2.917133e+00   3.314360e+00  \n",
       "50%        3.144298e+01                    1.098266e+01   5.134087e+02  \n",
       "75%        1.098901e+02                    2.255750e+01   1.407974e+03  \n",
       "max        1.289000e+06                    1.289000e+06   1.888952e+03  "
      ]
     },
     "execution_count": 5,
     "metadata": {},
     "output_type": "execute_result"
    }
   ],
   "source": [
    "data_budget.describe()"
   ]
  },
  {
   "cell_type": "code",
   "execution_count": 6,
   "metadata": {},
   "outputs": [
    {
     "name": "stdout",
     "output_type": "stream",
     "text": [
      "<class 'pandas.core.frame.DataFrame'>\n",
      "RangeIndex: 4472 entries, 0 to 4471\n",
      "Data columns (total 31 columns):\n",
      " #   Column                          Non-Null Count  Dtype  \n",
      "---  ------                          --------------  -----  \n",
      " 0   currency                        4472 non-null   object \n",
      " 1   budget                          4472 non-null   object \n",
      " 2   status                          4472 non-null   object \n",
      " 3   budget_cut_weekly               4472 non-null   float64\n",
      " 4   goal_id                         4472 non-null   int64  \n",
      " 5   wealth_growth                   4472 non-null   float64\n",
      " 6   monthly_max_saving              4472 non-null   float64\n",
      " 7   budget_daily                    4472 non-null   float64\n",
      " 8   feasible                        4472 non-null   bool   \n",
      " 9   budget_monthly                  4472 non-null   float64\n",
      " 10  psid                            4472 non-null   object \n",
      " 11  saved_amount                    4472 non-null   float64\n",
      " 12  created_at                      4472 non-null   object \n",
      " 13  diff2target                     4472 non-null   float64\n",
      " 14  monthly_min_expense             4472 non-null   float64\n",
      " 15  completion_rate                 4472 non-null   float64\n",
      " 16  budget_cut_monthly              4472 non-null   float64\n",
      " 17  due_date                        4472 non-null   object \n",
      " 18  updated_at                      4472 non-null   object \n",
      " 19  difficulty_idx                  4472 non-null   int64  \n",
      " 20  delta                           4472 non-null   int64  \n",
      " 21  start_date                      4472 non-null   object \n",
      " 22  category                        4472 non-null   object \n",
      " 23  monthly_avg_income              4472 non-null   float64\n",
      " 24  amount                          4472 non-null   float64\n",
      " 25  budget_cut_daily                4472 non-null   float64\n",
      " 26  current_goal_budget_cut_by_day  4472 non-null   float64\n",
      " 27  budget_weekly                   4472 non-null   float64\n",
      " 28  snapshot                        4472 non-null   object \n",
      " 29  goal_name                       4472 non-null   object \n",
      " 30  remarks                         1358 non-null   object \n",
      "dtypes: bool(1), float64(15), int64(3), object(12)\n",
      "memory usage: 1.0+ MB\n"
     ]
    }
   ],
   "source": [
    "data_budget.info()"
   ]
  },
  {
   "cell_type": "markdown",
   "metadata": {},
   "source": [
    "### key takeaway for this section: \n",
    "1. no null/missing value(remarks has some null field, but irrelevant)\n",
    "2. 4472 rows, 31 columns\n",
    "3. dtypes: bool(1), float64(15), int64(3), object(12)\n"
   ]
  },
  {
   "cell_type": "markdown",
   "metadata": {},
   "source": [
    "### 1.2 Analyse catogorical columns"
   ]
  },
  {
   "cell_type": "code",
   "execution_count": 7,
   "metadata": {},
   "outputs": [
    {
     "data": {
      "text/plain": [
       "Index(['currency', 'budget', 'status', 'psid', 'created_at', 'due_date',\n",
       "       'updated_at', 'start_date', 'category', 'snapshot', 'goal_name',\n",
       "       'remarks'],\n",
       "      dtype='object')"
      ]
     },
     "execution_count": 7,
     "metadata": {},
     "output_type": "execute_result"
    }
   ],
   "source": [
    "catg_bgt=data_budget.select_dtypes(include=['object']).columns\n",
    "catg_bgt"
   ]
  },
  {
   "cell_type": "markdown",
   "metadata": {},
   "source": [
    "#### 1.2.1 see the details of some import columns"
   ]
  },
  {
   "cell_type": "code",
   "execution_count": 8,
   "metadata": {},
   "outputs": [
    {
     "name": "stdout",
     "output_type": "stream",
     "text": [
      "1287\n",
      "4472\n"
     ]
    }
   ],
   "source": [
    "print(len(pd.unique(data_budget['psid'])))\n",
    "print(len(data_budget))"
   ]
  },
  {
   "cell_type": "code",
   "execution_count": 9,
   "metadata": {},
   "outputs": [
    {
     "name": "stdout",
     "output_type": "stream",
     "text": [
      "currency\n",
      "HKD    3654\n",
      "USD     818\n",
      "Name: currency, dtype: int64 \n",
      "\n",
      "status\n",
      "In progress    3053\n",
      "Completed      1149\n",
      "Failed          270\n",
      "Name: status, dtype: int64 \n",
      "\n",
      "category\n",
      "Dining           1356\n",
      "Saving           1088\n",
      "Education         609\n",
      "Home / Family     540\n",
      "Leisure           339\n",
      "Property          270\n",
      "Healthcare        270\n",
      "Name: category, dtype: int64 \n",
      "\n",
      "goal_name\n",
      "Emergency Fund                    818\n",
      "oreo                              339\n",
      "test                              270\n",
      "again                             270\n",
      "goal1                             270\n",
      "iekairitai                        270\n",
      "add a infeasible how              270\n",
      "asdf                              270\n",
      "Target12 - mc                     270\n",
      "oeas                              270\n",
      "testing                           270\n",
      "kakin                             270\n",
      "goal                              270\n",
      "oreo journey impossible May 14     69\n",
      "Oreo course                        69\n",
      "oreo journey May 14                69\n",
      "cheaper food                       69\n",
      "high                               69\n",
      "Name: goal_name, dtype: int64 \n",
      "\n",
      "remarks\n",
      "Your Emergency Fund for 3 months    818\n",
      "I want my app working normal        270\n",
      "mc buffet                           270\n",
      "Name: remarks, dtype: int64 \n",
      "\n"
     ]
    }
   ],
   "source": [
    "for c in ['currency',  'status',  'category',  'goal_name','remarks']:\n",
    "    print(c)\n",
    "    print(data_budget[c].value_counts(),\"\\n\")"
   ]
  },
  {
   "cell_type": "markdown",
   "metadata": {},
   "source": [
    "### key takeaway for this section: \n",
    "Group by usid, do the average\n",
    "1. convert the currency to HKD\n",
    "2. convert the status to \"In progress\",\"Completed\",\"Failed\"\n",
    "3. convert category to 'Dining', 'Saving', 'Education', 'Home / Family', 'Leisure', 'Healthcare', 'Property'\n",
    "4. Drop goal_name, remark"
   ]
  },
  {
   "cell_type": "markdown",
   "metadata": {},
   "source": [
    "#### 1.2.2 closer look into budget,snapshot(str to dict)"
   ]
  },
  {
   "cell_type": "code",
   "execution_count": 10,
   "metadata": {},
   "outputs": [],
   "source": [
    "# Take the first row as an example\n",
    "import json\n",
    "def extract(string):\n",
    "    string=string.replace(\"\\'\",\"\\\"\")\n",
    "    string=string.replace(\"True\",\"1\")\n",
    "    string=string.replace(\"False\",\"0\")\n",
    "    convertedDict = json.loads(string)\n",
    "    return convertedDict\n",
    "\n",
    "def cvt_dict(convertedDict,indent=0):\n",
    "    for key in convertedDict:\n",
    "        if type(convertedDict[key]) is dict:\n",
    "            print((\" \")*indent, key)\n",
    "            cvt_dict(convertedDict[key],indent+2)\n",
    "        else:\n",
    "            print((\" \")*indent,key,convertedDict[key])\n",
    "            \n",
    "str_budget=data_budget.iloc[0:1]['budget'].values.tolist()[0]\n",
    "str_snapshot=data_budget.iloc[0:1]['snapshot'].values.tolist()[0]\n",
    "budget_dict=extract(str_budget)\n",
    "snapshot_dict=extract(str_snapshot)"
   ]
  },
  {
   "cell_type": "code",
   "execution_count": 11,
   "metadata": {},
   "outputs": [
    {
     "name": "stdout",
     "output_type": "stream",
     "text": [
      "Others {'budget_weekly': 1.984466361099931, 'weight': 0.1582632193162101, 'budget_monthly': 8.504855833285418, 'budget_daily': 0.28349519444284726} \n",
      "\n",
      "Leisure {'budget_weekly': 0.0, 'weight': 0.0, 'budget_monthly': 0.0, 'budget_daily': 0.0} \n",
      "\n",
      "Transportation {'budget_weekly': 0.0, 'weight': 0.0, 'budget_monthly': 0.0, 'budget_daily': 0.0} \n",
      "\n",
      "Financials {'budget_weekly': 28.27055099422452, 'weight': 0.0, 'budget_monthly': 121.15950426096224, 'budget_daily': 4.038650142032075} \n",
      "\n",
      "Dining & Beverage {'budget_weekly': 0.0, 'weight': 0.0, 'budget_monthly': 0.0, 'budget_daily': 0.0} \n",
      "\n",
      "Healthcare {'budget_weekly': 0.0, 'weight': 0.0, 'budget_monthly': 0.0, 'budget_daily': 0.0} \n",
      "\n",
      "Shopping {'budget_weekly': 0.0, 'weight': 0.0, 'budget_monthly': 0.0, 'budget_daily': 0.0} \n",
      "\n",
      "Home {'budget_weekly': 0.0, 'weight': 0.0, 'budget_monthly': 0.0, 'budget_daily': 0.0} \n",
      "\n"
     ]
    }
   ],
   "source": [
    "# check the budget_dict\n",
    "for key in budget_dict:\n",
    "    print(key,budget_dict[key],\"\\n\")"
   ]
  },
  {
   "cell_type": "code",
   "execution_count": 12,
   "metadata": {},
   "outputs": [
    {
     "name": "stdout",
     "output_type": "stream",
     "text": [
      " monthly\n",
      "   budget_monthly 3.360028\n",
      "   amount 463.68386399999997\n",
      "   budget_cut_monthly 151.20126\n",
      "   monthly_min_expense 322.0\n",
      "   monthly_max_saving -167.438712\n",
      "   difficulty_idx 10.0\n",
      "   budget_daily 0.11200093333333333\n",
      "   budget_cut_daily 5.040042\n",
      "   monthly_avg_income 154.561288\n",
      "   current_goal_budget_cut_by_day 5.040042\n",
      "   budget_weekly 0.7840065333333333\n",
      "   diff2target 977.1625808\n",
      "   feasible 0\n",
      "   budget\n",
      "     Others\n",
      "       budget_weekly 1.984466361099931\n",
      "       weight 0.1582632193162101\n",
      "       budget_monthly 8.504855833285418\n",
      "       budget_daily 0.28349519444284726\n",
      "     Leisure\n",
      "       budget_weekly 0.0\n",
      "       weight 0.0\n",
      "       budget_monthly 0.0\n",
      "       budget_daily 0.0\n",
      "     Transportation\n",
      "       budget_weekly 0.0\n",
      "       weight 0.0\n",
      "       budget_monthly 0.0\n",
      "       budget_daily 0.0\n",
      "     Financials\n",
      "       budget_weekly 28.27055099422452\n",
      "       weight 0.0\n",
      "       budget_monthly 121.15950426096224\n",
      "       budget_daily 4.038650142032075\n",
      "     Dining & Beverage\n",
      "       budget_weekly 0.0\n",
      "       weight 0.0\n",
      "       budget_monthly 0.0\n",
      "       budget_daily 0.0\n",
      "     Healthcare\n",
      "       budget_weekly 0.0\n",
      "       weight 0.0\n",
      "       budget_monthly 0.0\n",
      "       budget_daily 0.0\n",
      "     Shopping\n",
      "       budget_weekly 0.0\n",
      "       weight 0.0\n",
      "       budget_monthly 0.0\n",
      "       budget_daily 0.0\n",
      "     Home\n",
      "       budget_weekly 0.0\n",
      "       weight 0.0\n",
      "       budget_monthly 0.0\n",
      "       budget_daily 0.0\n",
      "   budget_cut_weekly 35.280294\n",
      " quarterly\n",
      "   budget_monthly 3.360028\n",
      "   amount 463.68386399999997\n",
      "   budget_cut_monthly 151.20126\n",
      "   monthly_min_expense 322.0\n",
      "   monthly_max_saving -167.438712\n",
      "   difficulty_idx 10.0\n",
      "   budget_daily 0.11200093333333333\n",
      "   budget_cut_daily 5.040042\n",
      "   monthly_avg_income 154.561288\n",
      "   current_goal_budget_cut_by_day 5.040042\n",
      "   budget_weekly 0.7840065333333333\n",
      "   diff2target 977.1625808\n",
      "   feasible 0\n",
      "   budget\n",
      "     Others\n",
      "       budget_weekly 1.984466361099931\n",
      "       weight 0.1582632193162101\n",
      "       budget_monthly 8.504855833285418\n",
      "       budget_daily 0.28349519444284726\n",
      "     Leisure\n",
      "       budget_weekly 0.0\n",
      "       weight 0.0\n",
      "       budget_monthly 0.0\n",
      "       budget_daily 0.0\n",
      "     Transportation\n",
      "       budget_weekly 0.0\n",
      "       weight 0.0\n",
      "       budget_monthly 0.0\n",
      "       budget_daily 0.0\n",
      "     Financials\n",
      "       budget_weekly 28.27055099422452\n",
      "       weight 0.0\n",
      "       budget_monthly 121.15950426096224\n",
      "       budget_daily 4.038650142032075\n",
      "     Dining & Beverage\n",
      "       budget_weekly 0.0\n",
      "       weight 0.0\n",
      "       budget_monthly 0.0\n",
      "       budget_daily 0.0\n",
      "     Healthcare\n",
      "       budget_weekly 0.0\n",
      "       weight 0.0\n",
      "       budget_monthly 0.0\n",
      "       budget_daily 0.0\n",
      "     Shopping\n",
      "       budget_weekly 0.0\n",
      "       weight 0.0\n",
      "       budget_monthly 0.0\n",
      "       budget_daily 0.0\n",
      "     Home\n",
      "       budget_weekly 0.0\n",
      "       weight 0.0\n",
      "       budget_monthly 0.0\n",
      "       budget_daily 0.0\n",
      "   budget_cut_weekly 35.280294\n",
      " weekly\n",
      "   budget_monthly 3.360028\n",
      "   amount 463.68386399999997\n",
      "   budget_cut_monthly 151.20126\n",
      "   monthly_min_expense 322.0\n",
      "   monthly_max_saving -167.438712\n",
      "   difficulty_idx 10.0\n",
      "   budget_daily 0.11200093333333333\n",
      "   budget_cut_daily 5.040042\n",
      "   monthly_avg_income 154.561288\n",
      "   current_goal_budget_cut_by_day 5.040042\n",
      "   budget_weekly 0.7840065333333333\n",
      "   diff2target 977.1625808\n",
      "   feasible 0\n",
      "   budget\n",
      "     Others\n",
      "       budget_weekly 1.984466361099931\n",
      "       weight 0.1582632193162101\n",
      "       budget_monthly 8.504855833285418\n",
      "       budget_daily 0.28349519444284726\n",
      "     Leisure\n",
      "       budget_weekly 0.0\n",
      "       weight 0.0\n",
      "       budget_monthly 0.0\n",
      "       budget_daily 0.0\n",
      "     Transportation\n",
      "       budget_weekly 0.0\n",
      "       weight 0.0\n",
      "       budget_monthly 0.0\n",
      "       budget_daily 0.0\n",
      "     Financials\n",
      "       budget_weekly 28.27055099422452\n",
      "       weight 0.0\n",
      "       budget_monthly 121.15950426096224\n",
      "       budget_daily 4.038650142032075\n",
      "     Dining & Beverage\n",
      "       budget_weekly 0.0\n",
      "       weight 0.0\n",
      "       budget_monthly 0.0\n",
      "       budget_daily 0.0\n",
      "     Healthcare\n",
      "       budget_weekly 0.0\n",
      "       weight 0.0\n",
      "       budget_monthly 0.0\n",
      "       budget_daily 0.0\n",
      "     Shopping\n",
      "       budget_weekly 0.0\n",
      "       weight 0.0\n",
      "       budget_monthly 0.0\n",
      "       budget_daily 0.0\n",
      "     Home\n",
      "       budget_weekly 0.0\n",
      "       weight 0.0\n",
      "       budget_monthly 0.0\n",
      "       budget_daily 0.0\n",
      "   budget_cut_weekly 35.280294\n"
     ]
    }
   ],
   "source": [
    "# check the snapshot_dict\n",
    "cvt_dict(snapshot_dict)"
   ]
  },
  {
   "cell_type": "code",
   "execution_count": 13,
   "metadata": {},
   "outputs": [
    {
     "name": "stdout",
     "output_type": "stream",
     "text": [
      "81.89% of the monthly,quarterly,weekly budge in snapshot is the same\n"
     ]
    }
   ],
   "source": [
    "# Question: what is snapshot? the monthly,quarterly,weekly seem to be same \n",
    "def split_snapshot(ss):\n",
    "    ss=ss[1:-1].replace(\"\\'monthly\\': \",\"\\n\")\n",
    "    ss=ss[1:].replace(\"\\'quarterly\\': \",\"\\n\")\n",
    "    ss=ss.replace(\"\\'weekly\\': \",\"\\n\")\n",
    "    arr=ss.split(\"\\n\")\n",
    "    if arr[0]==arr[1] and arr[0][:-2]==arr[2]:\n",
    "        return True\n",
    "    else:\n",
    "        return False\n",
    "    \n",
    "cnt=0\n",
    "l=len(data_budget['snapshot'])\n",
    "for ele in data_budget['snapshot']:\n",
    "    if split_snapshot(ele):\n",
    "        cnt+=1\n",
    "print('{:.2%} of the monthly,quarterly,weekly budge in snapshot is the same'.format(cnt/l))"
   ]
  },
  {
   "cell_type": "code",
   "execution_count": 14,
   "metadata": {},
   "outputs": [
    {
     "name": "stdout",
     "output_type": "stream",
     "text": [
      "set()\n",
      "{'completion_rate', 'psid', 'due_date', 'currency', 'category', 'updated_at', 'goal_id', 'saved_amount', 'delta', 'wealth_growth', 'start_date', 'snapshot', 'goal_name', 'remarks', 'created_at', 'status'}\n"
     ]
    }
   ],
   "source": [
    "# Question: Difference between monthly data of snapshot and budget_dict\n",
    "set1=snapshot_dict['monthly'].keys()\n",
    "set2=set(data_budget.columns.values)\n",
    "intc=set1&set2\n",
    "print(set1-intc)\n",
    "print(set2-intc)"
   ]
  },
  {
   "cell_type": "markdown",
   "metadata": {},
   "source": [
    "### key takeaway for this section: \n",
    "1. most monthly,quarterly,weekly budge in snapshot is the same\n",
    "2. snapshot do not give addition info\n",
    "3. drop snapshot and so on\n",
    "4. convert budget_dict to these attribute:\n",
    "\n",
    "Others_weekly, Others_monthly, Others_daily\n",
    "Leisure_weekly, Leisure_monthly, Leisure_daily\n",
    "Transportation_weekly, Transportation_monthly, Transportation_daily\n",
    "Financials_weekly, Financials_monthly, Financials_daily\n",
    "Dining & Beverage_weekly, Dining & Beverage_monthly, Dining & Beverage_daily\n",
    "Healthcare_weekly, Healthcare_monthly, Healthcare_daily\n",
    "Shopping_weekly, Shopping_monthly, Shopping_daily\n",
    "Home_weekly, Home_monthly, Home_daily"
   ]
  },
  {
   "cell_type": "code",
   "execution_count": 15,
   "metadata": {},
   "outputs": [],
   "source": [
    "whole_str_budget=data_budget['budget'].values.tolist()\n",
    "detail_dict=dict()\n",
    "i=0\n",
    "for single_str_budget in whole_str_budget:\n",
    "    single_budget_dict=extract(single_str_budget)\n",
    "    for key in single_budget_dict:\n",
    "        dd=single_budget_dict[key]\n",
    "        for ele in ['_weekly','_monthly','_daily']:\n",
    "            name=key+ele\n",
    "            if name not in detail_dict.keys():\n",
    "                value=[]\n",
    "            else:\n",
    "                value=detail_dict[name]\n",
    "            value.append(dd['budget'+ele])\n",
    "            detail_dict[name]=value"
   ]
  },
  {
   "cell_type": "markdown",
   "metadata": {},
   "source": [
    "### 1.3 Analyse numerical columns"
   ]
  },
  {
   "cell_type": "code",
   "execution_count": 16,
   "metadata": {},
   "outputs": [
    {
     "name": "stdout",
     "output_type": "stream",
     "text": [
      "Index(['budget_cut_weekly', 'goal_id', 'wealth_growth', 'monthly_max_saving',\n",
      "       'budget_daily', 'feasible', 'budget_monthly', 'saved_amount',\n",
      "       'diff2target', 'monthly_min_expense', 'completion_rate',\n",
      "       'budget_cut_monthly', 'difficulty_idx', 'delta', 'monthly_avg_income',\n",
      "       'amount', 'budget_cut_daily', 'current_goal_budget_cut_by_day',\n",
      "       'budget_weekly'],\n",
      "      dtype='object')\n"
     ]
    }
   ],
   "source": [
    "cs=data_budget.select_dtypes(exclude=['object']).columns\n",
    "print(cs)"
   ]
  },
  {
   "cell_type": "code",
   "execution_count": 17,
   "metadata": {},
   "outputs": [
    {
     "data": {
      "text/html": [
       "<div>\n",
       "<style scoped>\n",
       "    .dataframe tbody tr th:only-of-type {\n",
       "        vertical-align: middle;\n",
       "    }\n",
       "\n",
       "    .dataframe tbody tr th {\n",
       "        vertical-align: top;\n",
       "    }\n",
       "\n",
       "    .dataframe thead th {\n",
       "        text-align: right;\n",
       "    }\n",
       "</style>\n",
       "<table border=\"1\" class=\"dataframe\">\n",
       "  <thead>\n",
       "    <tr style=\"text-align: right;\">\n",
       "      <th></th>\n",
       "      <th>budget_cut_weekly</th>\n",
       "      <th>goal_id</th>\n",
       "      <th>wealth_growth</th>\n",
       "      <th>monthly_max_saving</th>\n",
       "      <th>budget_daily</th>\n",
       "      <th>feasible</th>\n",
       "      <th>budget_monthly</th>\n",
       "      <th>saved_amount</th>\n",
       "      <th>diff2target</th>\n",
       "      <th>monthly_min_expense</th>\n",
       "      <th>completion_rate</th>\n",
       "      <th>budget_cut_monthly</th>\n",
       "      <th>difficulty_idx</th>\n",
       "      <th>delta</th>\n",
       "      <th>monthly_avg_income</th>\n",
       "      <th>amount</th>\n",
       "      <th>budget_cut_daily</th>\n",
       "      <th>current_goal_budget_cut_by_day</th>\n",
       "      <th>budget_weekly</th>\n",
       "    </tr>\n",
       "  </thead>\n",
       "  <tbody>\n",
       "    <tr>\n",
       "      <th>0</th>\n",
       "      <td>35.280294</td>\n",
       "      <td>23068219672</td>\n",
       "      <td>0.0</td>\n",
       "      <td>-167.438712</td>\n",
       "      <td>0.112001</td>\n",
       "      <td>False</td>\n",
       "      <td>3.360028</td>\n",
       "      <td>0.0</td>\n",
       "      <td>977.162581</td>\n",
       "      <td>322.0</td>\n",
       "      <td>0.0</td>\n",
       "      <td>151.20126</td>\n",
       "      <td>10</td>\n",
       "      <td>92</td>\n",
       "      <td>154.561288</td>\n",
       "      <td>463.683864</td>\n",
       "      <td>5.040042</td>\n",
       "      <td>5.040042</td>\n",
       "      <td>0.784007</td>\n",
       "    </tr>\n",
       "  </tbody>\n",
       "</table>\n",
       "</div>"
      ],
      "text/plain": [
       "   budget_cut_weekly      goal_id  wealth_growth  monthly_max_saving  \\\n",
       "0          35.280294  23068219672            0.0         -167.438712   \n",
       "\n",
       "   budget_daily  feasible  budget_monthly  saved_amount  diff2target  \\\n",
       "0      0.112001     False        3.360028           0.0   977.162581   \n",
       "\n",
       "   monthly_min_expense  completion_rate  budget_cut_monthly  difficulty_idx  \\\n",
       "0                322.0              0.0           151.20126              10   \n",
       "\n",
       "   delta  monthly_avg_income      amount  budget_cut_daily  \\\n",
       "0     92          154.561288  463.683864          5.040042   \n",
       "\n",
       "   current_goal_budget_cut_by_day  budget_weekly  \n",
       "0                        5.040042       0.784007  "
      ]
     },
     "execution_count": 17,
     "metadata": {},
     "output_type": "execute_result"
    }
   ],
   "source": [
    "data_budget.iloc[0:1][cs]"
   ]
  },
  {
   "cell_type": "markdown",
   "metadata": {},
   "source": [
    "### key takeaway for this section: \n",
    "1. drop goal_id\n",
    "2. convert feasible columns to catogory"
   ]
  },
  {
   "cell_type": "markdown",
   "metadata": {},
   "source": [
    "### 1.4 Clear the Data base on Takeaways"
   ]
  },
  {
   "cell_type": "markdown",
   "metadata": {},
   "source": [
    "#### 1.4.1 do the conversion"
   ]
  },
  {
   "cell_type": "code",
   "execution_count": 18,
   "metadata": {},
   "outputs": [],
   "source": [
    "def get_ratio(c_type):\n",
    "    if c_type==\"HKD\":\n",
    "        return 1\n",
    "    elif c_type==\"USD\":\n",
    "        return 7.8\n",
    "    elif c_type==\"EUR\":\n",
    "        return 9.2\n",
    "    elif c_type==\"CNY\":\n",
    "        return 1.2\n",
    "    elif c_type==\"JPY\":\n",
    "        return 0.07\n",
    "    elif c_type==\"GBP\":\n",
    "        return 10.7"
   ]
  },
  {
   "cell_type": "code",
   "execution_count": 19,
   "metadata": {},
   "outputs": [],
   "source": [
    "cs=cs.drop(['feasible'])\n",
    "\n",
    "def curreny_conversion(arrLike):  \n",
    "    ratio = get_ratio(arrLike['currency'])\n",
    "    arrLike[cs]*=ratio\n",
    "    return arrLike\n",
    "\n",
    "data_budget = data_budget.apply(curreny_conversion,axis=1)"
   ]
  },
  {
   "cell_type": "code",
   "execution_count": 20,
   "metadata": {},
   "outputs": [
    {
     "name": "stdout",
     "output_type": "stream",
     "text": [
      "Others_weekly\n",
      "Others_monthly\n",
      "Others_daily\n",
      "Leisure_weekly\n",
      "Leisure_monthly\n",
      "Leisure_daily\n",
      "Transportation_weekly\n",
      "Transportation_monthly\n",
      "Transportation_daily\n",
      "Financials_weekly\n",
      "Financials_monthly\n",
      "Financials_daily\n",
      "Dining & Beverage_weekly\n",
      "Dining & Beverage_monthly\n",
      "Dining & Beverage_daily\n",
      "Healthcare_weekly\n",
      "Healthcare_monthly\n",
      "Healthcare_daily\n",
      "Shopping_weekly\n",
      "Shopping_monthly\n",
      "Shopping_daily\n",
      "Home_weekly\n",
      "Home_monthly\n",
      "Home_daily\n"
     ]
    }
   ],
   "source": [
    "for kk in detail_dict:\n",
    "    print(kk)\n",
    "    data_budget[kk]=np.array(detail_dict[kk])"
   ]
  },
  {
   "cell_type": "code",
   "execution_count": 21,
   "metadata": {},
   "outputs": [],
   "source": [
    "data_budget.drop(['goal_id','budget', 'created_at', 'due_date', 'updated_at', 'start_date',\n",
    "       'snapshot', 'goal_name', 'remarks'],axis=1,inplace=True)"
   ]
  },
  {
   "cell_type": "code",
   "execution_count": 22,
   "metadata": {},
   "outputs": [
    {
     "name": "stdout",
     "output_type": "stream",
     "text": [
      "<class 'pandas.core.frame.DataFrame'>\n",
      "RangeIndex: 4472 entries, 0 to 4471\n",
      "Data columns (total 46 columns):\n",
      " #   Column                          Non-Null Count  Dtype  \n",
      "---  ------                          --------------  -----  \n",
      " 0   currency                        4472 non-null   object \n",
      " 1   status                          4472 non-null   object \n",
      " 2   budget_cut_weekly               4472 non-null   float64\n",
      " 3   wealth_growth                   4472 non-null   float64\n",
      " 4   monthly_max_saving              4472 non-null   float64\n",
      " 5   budget_daily                    4472 non-null   float64\n",
      " 6   feasible                        4472 non-null   bool   \n",
      " 7   budget_monthly                  4472 non-null   float64\n",
      " 8   psid                            4472 non-null   object \n",
      " 9   saved_amount                    4472 non-null   float64\n",
      " 10  diff2target                     4472 non-null   float64\n",
      " 11  monthly_min_expense             4472 non-null   float64\n",
      " 12  completion_rate                 4472 non-null   float64\n",
      " 13  budget_cut_monthly              4472 non-null   float64\n",
      " 14  difficulty_idx                  4472 non-null   float64\n",
      " 15  delta                           4472 non-null   float64\n",
      " 16  category                        4472 non-null   object \n",
      " 17  monthly_avg_income              4472 non-null   float64\n",
      " 18  amount                          4472 non-null   float64\n",
      " 19  budget_cut_daily                4472 non-null   float64\n",
      " 20  current_goal_budget_cut_by_day  4472 non-null   float64\n",
      " 21  budget_weekly                   4472 non-null   float64\n",
      " 22  Others_weekly                   4472 non-null   float64\n",
      " 23  Others_monthly                  4472 non-null   float64\n",
      " 24  Others_daily                    4472 non-null   float64\n",
      " 25  Leisure_weekly                  4472 non-null   float64\n",
      " 26  Leisure_monthly                 4472 non-null   float64\n",
      " 27  Leisure_daily                   4472 non-null   float64\n",
      " 28  Transportation_weekly           4472 non-null   float64\n",
      " 29  Transportation_monthly          4472 non-null   float64\n",
      " 30  Transportation_daily            4472 non-null   float64\n",
      " 31  Financials_weekly               4472 non-null   float64\n",
      " 32  Financials_monthly              4472 non-null   float64\n",
      " 33  Financials_daily                4472 non-null   float64\n",
      " 34  Dining & Beverage_weekly        4472 non-null   float64\n",
      " 35  Dining & Beverage_monthly       4472 non-null   float64\n",
      " 36  Dining & Beverage_daily         4472 non-null   float64\n",
      " 37  Healthcare_weekly               4472 non-null   float64\n",
      " 38  Healthcare_monthly              4472 non-null   float64\n",
      " 39  Healthcare_daily                4472 non-null   float64\n",
      " 40  Shopping_weekly                 4472 non-null   float64\n",
      " 41  Shopping_monthly                4472 non-null   float64\n",
      " 42  Shopping_daily                  4472 non-null   float64\n",
      " 43  Home_weekly                     4472 non-null   float64\n",
      " 44  Home_monthly                    4472 non-null   float64\n",
      " 45  Home_daily                      4472 non-null   float64\n",
      "dtypes: bool(1), float64(41), object(4)\n",
      "memory usage: 1.5+ MB\n"
     ]
    }
   ],
   "source": [
    "data_budget.info()"
   ]
  },
  {
   "cell_type": "code",
   "execution_count": 23,
   "metadata": {},
   "outputs": [],
   "source": [
    "cvt_status=pd.get_dummies(data_budget.status)\n",
    "cvt_category=pd.get_dummies(data_budget.category)\n",
    "data_budget.drop(['status','category','currency'],axis=1,inplace=True)\n",
    "data_budget = data_budget.join(cvt_status)\n",
    "data_budget = data_budget.join(cvt_category)"
   ]
  },
  {
   "cell_type": "code",
   "execution_count": 24,
   "metadata": {},
   "outputs": [
    {
     "data": {
      "text/plain": [
       "Index(['psid'], dtype='object')"
      ]
     },
     "execution_count": 24,
     "metadata": {},
     "output_type": "execute_result"
    }
   ],
   "source": [
    "data_budget.select_dtypes(include=['object']).columns"
   ]
  },
  {
   "cell_type": "code",
   "execution_count": 25,
   "metadata": {},
   "outputs": [
    {
     "data": {
      "text/plain": [
       "Index(['budget_cut_weekly', 'wealth_growth', 'monthly_max_saving',\n",
       "       'budget_daily', 'feasible', 'budget_monthly', 'saved_amount',\n",
       "       'diff2target', 'monthly_min_expense', 'completion_rate',\n",
       "       'budget_cut_monthly', 'difficulty_idx', 'delta', 'monthly_avg_income',\n",
       "       'amount', 'budget_cut_daily', 'current_goal_budget_cut_by_day',\n",
       "       'budget_weekly', 'Others_weekly', 'Others_monthly', 'Others_daily',\n",
       "       'Leisure_weekly', 'Leisure_monthly', 'Leisure_daily',\n",
       "       'Transportation_weekly', 'Transportation_monthly',\n",
       "       'Transportation_daily', 'Financials_weekly', 'Financials_monthly',\n",
       "       'Financials_daily', 'Dining & Beverage_weekly',\n",
       "       'Dining & Beverage_monthly', 'Dining & Beverage_daily',\n",
       "       'Healthcare_weekly', 'Healthcare_monthly', 'Healthcare_daily',\n",
       "       'Shopping_weekly', 'Shopping_monthly', 'Shopping_daily', 'Home_weekly',\n",
       "       'Home_monthly', 'Home_daily', 'Completed', 'Failed', 'In progress',\n",
       "       'Dining', 'Education', 'Healthcare', 'Home / Family', 'Leisure',\n",
       "       'Property', 'Saving'],\n",
       "      dtype='object')"
      ]
     },
     "execution_count": 25,
     "metadata": {},
     "output_type": "execute_result"
    }
   ],
   "source": [
    "data_budget.select_dtypes(exclude=['object']).columns"
   ]
  },
  {
   "cell_type": "markdown",
   "metadata": {},
   "source": [
    "#### 1.4.2 how to group the data"
   ]
  },
  {
   "cell_type": "code",
   "execution_count": 26,
   "metadata": {},
   "outputs": [
    {
     "data": {
      "image/png": "[encoded data removed]",
      "text/plain": [
       "<Figure size 432x288 with 1 Axes>"
      ]
     },
     "metadata": {},
     "output_type": "display_data"
    }
   ],
   "source": [
    "budget_set=set(data_budget.columns)\n",
    "account_set=set(data_account.columns)\n",
    "transaction_set=set(data_transaction.columns)\n",
    "v=venn3([budget_set, account_set,transaction_set])\n",
    "v.get_label_by_id('A').set_text('data_budget')\n",
    "v.get_label_by_id('B').set_text('data_account')\n",
    "v.get_label_by_id('C').set_text('data_transaction')\n",
    "plt.show()"
   ]
  },
  {
   "cell_type": "code",
   "execution_count": 27,
   "metadata": {},
   "outputs": [
    {
     "name": "stdout",
     "output_type": "stream",
     "text": [
      "{'psid'}\n"
     ]
    }
   ],
   "source": [
    "print(budget_set&account_set&transaction_set)"
   ]
  },
  {
   "cell_type": "markdown",
   "metadata": {},
   "source": [
    "### key takeaway for this section: \n",
    "1. use psid to link three dataset"
   ]
  },
  {
   "cell_type": "code",
   "execution_count": 28,
   "metadata": {},
   "outputs": [],
   "source": [
    "df=data_budget.groupby('psid').mean()"
   ]
  },
  {
   "cell_type": "code",
   "execution_count": 29,
   "metadata": {},
   "outputs": [
    {
     "data": {
      "text/plain": [
       "Index(['budget_cut_weekly', 'wealth_growth', 'monthly_max_saving',\n",
       "       'budget_daily', 'feasible', 'budget_monthly', 'saved_amount',\n",
       "       'diff2target', 'monthly_min_expense', 'completion_rate',\n",
       "       'budget_cut_monthly', 'difficulty_idx', 'delta', 'monthly_avg_income',\n",
       "       'amount', 'budget_cut_daily', 'current_goal_budget_cut_by_day',\n",
       "       'budget_weekly', 'Others_weekly', 'Others_monthly', 'Others_daily',\n",
       "       'Leisure_weekly', 'Leisure_monthly', 'Leisure_daily',\n",
       "       'Transportation_weekly', 'Transportation_monthly',\n",
       "       'Transportation_daily', 'Financials_weekly', 'Financials_monthly',\n",
       "       'Financials_daily', 'Dining & Beverage_weekly',\n",
       "       'Dining & Beverage_monthly', 'Dining & Beverage_daily',\n",
       "       'Healthcare_weekly', 'Healthcare_monthly', 'Healthcare_daily',\n",
       "       'Shopping_weekly', 'Shopping_monthly', 'Shopping_daily', 'Home_weekly',\n",
       "       'Home_monthly', 'Home_daily', 'Completed', 'Failed', 'In progress',\n",
       "       'Dining', 'Education', 'Healthcare', 'Home / Family', 'Leisure',\n",
       "       'Property', 'Saving'],\n",
       "      dtype='object')"
      ]
     },
     "execution_count": 29,
     "metadata": {},
     "output_type": "execute_result"
    }
   ],
   "source": [
    "df.columns"
   ]
  },
  {
   "cell_type": "code",
   "execution_count": 30,
   "metadata": {},
   "outputs": [],
   "source": [
    "df.to_csv(\"out.csv\",index=True)"
   ]
  },
  {
   "cell_type": "markdown",
   "metadata": {},
   "source": [
    "## 2. Analyse data_account"
   ]
  },
  {
   "cell_type": "markdown",
   "metadata": {},
   "source": [
    "### 2.1 Preliminary analyse"
   ]
  },
  {
   "cell_type": "code",
   "execution_count": 31,
   "metadata": {},
   "outputs": [
    {
     "name": "stdout",
     "output_type": "stream",
     "text": [
      "psid ['customer_1']\n",
      "account_id ['482625418285812233']\n",
      "nature ['savings']\n",
      "created_at ['2021-05-15T09:56:49Z']\n",
      "balance_by_day [\"{'2021-04-17': 7864.6, '2021-04-16': 7864.6, '2021-04-15': 7864.6, '2021-04-14': 7864.6, '2021-04-13': 7864.6, '2021-04-12': 7864.6, '2021-04-11': 7864.6, '2021-04-10': 7864.6, '2021-04-09': 6864.6, '2021-04-08': 6864.6, '2021-04-07': 6864.6, '2021-04-06': 6864.6, '2021-04-05': 6864.6, '2021-04-04': 6864.6, '2021-04-03': 8864.6, '2021-04-02': 8864.6, '2021-04-01': 7653.04, '2021-03-31': 9653.04, '2021-03-30': 9653.04, '2021-05-01': 10129.6, '2021-05-02': 8129.6, '2021-05-03': 8129.6, '2021-05-04': 8129.6, '2021-05-05': 8129.6, '2021-05-06': 8129.6, '2021-03-29': 9653.04, '2021-05-07': 8129.6, '2021-03-28': 9653.04, '2021-05-08': 8129.6, '2021-03-27': 9653.03, '2021-05-09': 8129.6, '2021-03-26': 9653.03, '2021-03-25': 10154.03, '2021-03-24': 10154.03, '2021-03-23': 10154.03, '2021-03-22': 10154.03, '2021-03-21': 10154.03, '2021-03-20': 10154.03, '2021-04-30': 10129.6, '2021-05-10': 7929.6, '2021-05-11': 7929.6, '2021-05-12': 7929.6, '2021-05-13': 7929.6, '2021-05-14': 7929.6, '2021-05-15': 7929.6, '2021-03-19': 8954.03, '2021-04-29': 7879.6, '2021-04-28': 7879.6, '2021-04-27': 7879.6, '2021-04-26': 7879.6, '2021-04-25': 7879.6, '2021-04-24': 7864.6, '2021-04-23': 7864.6, '2021-04-22': 7864.6, '2021-04-21': 7864.6, '2021-04-20': 7864.6, '2021-04-19': 7864.6, '2021-04-18': 7864.6}\"]\n",
      "currency_code ['HKD']\n",
      "subtype ['liquid_asset']\n",
      "name ['585-898042-292 HKD']\n",
      "account_name ['HKD Statement Savings - 585-898042-292 HKD']\n",
      "updated_at ['2021-05-15T09:56:49Z']\n",
      "balance [7629.6]\n",
      "display_type ['Saving Account']\n",
      "provider_name ['HSBC']\n",
      "connection_id ['482544630420736718']\n",
      "country_code ['HK']\n",
      "type ['asset']\n",
      "card_type [nan]\n",
      "credit_limit [nan]\n",
      "next_payment_date [nan]\n",
      "positions [nan]\n",
      "available_amount [nan]\n",
      "expiry_date [nan]\n",
      "next_payment_amount [nan]\n",
      "open_date [nan]\n"
     ]
    }
   ],
   "source": [
    "#take the first one as example\n",
    "for i in data_account[0:1].columns:\n",
    "    print(data_account[0:1][i].name,data_account[0:1][i].values)"
   ]
  },
  {
   "cell_type": "code",
   "execution_count": 32,
   "metadata": {},
   "outputs": [
    {
     "data": {
      "text/plain": [
       "Index(['psid', 'account_id', 'nature', 'created_at', 'balance_by_day',\n",
       "       'currency_code', 'subtype', 'name', 'account_name', 'updated_at',\n",
       "       'balance', 'display_type', 'provider_name', 'connection_id',\n",
       "       'country_code', 'type', 'card_type', 'credit_limit',\n",
       "       'next_payment_date', 'positions', 'available_amount', 'expiry_date',\n",
       "       'next_payment_amount', 'open_date'],\n",
       "      dtype='object')"
      ]
     },
     "execution_count": 32,
     "metadata": {},
     "output_type": "execute_result"
    }
   ],
   "source": [
    "data_account.columns"
   ]
  },
  {
   "cell_type": "code",
   "execution_count": 33,
   "metadata": {},
   "outputs": [
    {
     "data": {
      "text/html": [
       "<div>\n",
       "<style scoped>\n",
       "    .dataframe tbody tr th:only-of-type {\n",
       "        vertical-align: middle;\n",
       "    }\n",
       "\n",
       "    .dataframe tbody tr th {\n",
       "        vertical-align: top;\n",
       "    }\n",
       "\n",
       "    .dataframe thead th {\n",
       "        text-align: right;\n",
       "    }\n",
       "</style>\n",
       "<table border=\"1\" class=\"dataframe\">\n",
       "  <thead>\n",
       "    <tr style=\"text-align: right;\">\n",
       "      <th></th>\n",
       "      <th>balance</th>\n",
       "      <th>credit_limit</th>\n",
       "      <th>available_amount</th>\n",
       "      <th>next_payment_amount</th>\n",
       "    </tr>\n",
       "  </thead>\n",
       "  <tbody>\n",
       "    <tr>\n",
       "      <th>count</th>\n",
       "      <td>2875.000000</td>\n",
       "      <td>391.000000</td>\n",
       "      <td>437.000000</td>\n",
       "      <td>276.000000</td>\n",
       "    </tr>\n",
       "    <tr>\n",
       "      <th>mean</th>\n",
       "      <td>31414.984720</td>\n",
       "      <td>116000.000000</td>\n",
       "      <td>95458.177368</td>\n",
       "      <td>488.218333</td>\n",
       "    </tr>\n",
       "    <tr>\n",
       "      <th>std</th>\n",
       "      <td>130365.062161</td>\n",
       "      <td>124244.341562</td>\n",
       "      <td>224645.357662</td>\n",
       "      <td>710.439579</td>\n",
       "    </tr>\n",
       "    <tr>\n",
       "      <th>min</th>\n",
       "      <td>-20882.170000</td>\n",
       "      <td>10000.000000</td>\n",
       "      <td>212.960000</td>\n",
       "      <td>0.070000</td>\n",
       "    </tr>\n",
       "    <tr>\n",
       "      <th>25%</th>\n",
       "      <td>0.000000</td>\n",
       "      <td>10000.000000</td>\n",
       "      <td>1365.820000</td>\n",
       "      <td>134.410000</td>\n",
       "    </tr>\n",
       "    <tr>\n",
       "      <th>50%</th>\n",
       "      <td>1365.820000</td>\n",
       "      <td>10000.000000</td>\n",
       "      <td>7970.870000</td>\n",
       "      <td>220.000000</td>\n",
       "    </tr>\n",
       "    <tr>\n",
       "      <th>75%</th>\n",
       "      <td>11845.880000</td>\n",
       "      <td>272000.000000</td>\n",
       "      <td>29834.940000</td>\n",
       "      <td>220.000000</td>\n",
       "    </tr>\n",
       "    <tr>\n",
       "      <th>max</th>\n",
       "      <td>735770.000000</td>\n",
       "      <td>272000.000000</td>\n",
       "      <td>735770.000000</td>\n",
       "      <td>2067.660000</td>\n",
       "    </tr>\n",
       "  </tbody>\n",
       "</table>\n",
       "</div>"
      ],
      "text/plain": [
       "             balance   credit_limit  available_amount  next_payment_amount\n",
       "count    2875.000000     391.000000        437.000000           276.000000\n",
       "mean    31414.984720  116000.000000      95458.177368           488.218333\n",
       "std    130365.062161  124244.341562     224645.357662           710.439579\n",
       "min    -20882.170000   10000.000000        212.960000             0.070000\n",
       "25%         0.000000   10000.000000       1365.820000           134.410000\n",
       "50%      1365.820000   10000.000000       7970.870000           220.000000\n",
       "75%     11845.880000  272000.000000      29834.940000           220.000000\n",
       "max    735770.000000  272000.000000     735770.000000          2067.660000"
      ]
     },
     "execution_count": 33,
     "metadata": {},
     "output_type": "execute_result"
    }
   ],
   "source": [
    "data_account.describe()"
   ]
  },
  {
   "cell_type": "code",
   "execution_count": 34,
   "metadata": {},
   "outputs": [
    {
     "name": "stdout",
     "output_type": "stream",
     "text": [
      "<class 'pandas.core.frame.DataFrame'>\n",
      "RangeIndex: 2875 entries, 0 to 2874\n",
      "Data columns (total 24 columns):\n",
      " #   Column               Non-Null Count  Dtype  \n",
      "---  ------               --------------  -----  \n",
      " 0   psid                 2875 non-null   object \n",
      " 1   account_id           2875 non-null   object \n",
      " 2   nature               2875 non-null   object \n",
      " 3   created_at           2875 non-null   object \n",
      " 4   balance_by_day       2737 non-null   object \n",
      " 5   currency_code        2875 non-null   object \n",
      " 6   subtype              2875 non-null   object \n",
      " 7   name                 2875 non-null   object \n",
      " 8   account_name         2875 non-null   object \n",
      " 9   updated_at           2875 non-null   object \n",
      " 10  balance              2875 non-null   float64\n",
      " 11  display_type         2875 non-null   object \n",
      " 12  provider_name        2875 non-null   object \n",
      " 13  connection_id        2875 non-null   object \n",
      " 14  country_code         2875 non-null   object \n",
      " 15  type                 2875 non-null   object \n",
      " 16  card_type            506 non-null    object \n",
      " 17  credit_limit         391 non-null    float64\n",
      " 18  next_payment_date    437 non-null    object \n",
      " 19  positions            230 non-null    object \n",
      " 20  available_amount     437 non-null    float64\n",
      " 21  expiry_date          115 non-null    object \n",
      " 22  next_payment_amount  276 non-null    float64\n",
      " 23  open_date            46 non-null     object \n",
      "dtypes: float64(4), object(20)\n",
      "memory usage: 539.2+ KB\n"
     ]
    }
   ],
   "source": [
    "data_account.info()"
   ]
  },
  {
   "cell_type": "markdown",
   "metadata": {},
   "source": [
    "### 2.2 Analyse catogorical columns"
   ]
  },
  {
   "cell_type": "code",
   "execution_count": 35,
   "metadata": {},
   "outputs": [
    {
     "data": {
      "text/plain": [
       "Index(['psid', 'account_id', 'nature', 'created_at', 'balance_by_day',\n",
       "       'currency_code', 'subtype', 'name', 'account_name', 'updated_at',\n",
       "       'display_type', 'provider_name', 'connection_id', 'country_code',\n",
       "       'type', 'card_type', 'next_payment_date', 'positions', 'expiry_date',\n",
       "       'open_date'],\n",
       "      dtype='object')"
      ]
     },
     "execution_count": 35,
     "metadata": {},
     "output_type": "execute_result"
    }
   ],
   "source": [
    "data_account.select_dtypes(include=['object']).columns"
   ]
  },
  {
   "cell_type": "markdown",
   "metadata": {},
   "source": [
    "#### 2.2.1 see the details of some import columns"
   ]
  },
  {
   "cell_type": "code",
   "execution_count": 36,
   "metadata": {},
   "outputs": [
    {
     "name": "stdout",
     "output_type": "stream",
     "text": [
      "nature\n",
      "savings        1449\n",
      "account         529\n",
      "credit_card     345\n",
      "investment      276\n",
      "card            230\n",
      "insurance        46\n",
      "Name: nature, dtype: int64 \n",
      "\n",
      "currency_code\n",
      "HKD    2047\n",
      "USD     460\n",
      "EUR     207\n",
      "CNY      69\n",
      "GBP      46\n",
      "JPY      46\n",
      "Name: currency_code, dtype: int64 \n",
      "\n",
      "subtype\n",
      "liquid_asset         2576\n",
      "current_liability     253\n",
      "illiquid_asset         46\n",
      "Name: subtype, dtype: int64 \n",
      "\n",
      "display_type\n",
      "Saving Account     1449\n",
      "Credit Card         575\n",
      "Current Account     529\n",
      "Crypto              230\n",
      "Investment           46\n",
      "Insurance            46\n",
      "Name: display_type, dtype: int64 \n",
      "\n",
      "provider_name\n",
      "Hang Seng                    1035\n",
      "HSBC                          667\n",
      "Bank of China (Hong Kong)     414\n",
      "Standard Chartered            322\n",
      "Diginex                       230\n",
      "Fake Bank with Image          207\n",
      "Name: provider_name, dtype: int64 \n",
      "\n",
      "country_code\n",
      "HK       2438\n",
      "equos     230\n",
      "XF        207\n",
      "Name: country_code, dtype: int64 \n",
      "\n",
      "type\n",
      "asset        2622\n",
      "liability     253\n",
      "Name: type, dtype: int64 \n",
      "\n",
      "card_type\n",
      "visa           276\n",
      "master_card    230\n",
      "Name: card_type, dtype: int64 \n",
      "\n",
      "positions\n",
      "[{'symbol': 'USDC', 'industury': '', 'quantity': 0.0, 'mkt_value': 0.0, 'asset_type': 'CRYPTO', 'currency': 'USD', 'avg_price': None}, {'symbol': 'ETH', 'industury': '', 'quantity': 0.0, 'mkt_value': 0.0, 'asset_type': 'CRYPTO', 'currency': 'USD', 'avg_price': None}, {'symbol': 'BTC', 'industury': '', 'quantity': 0.0, 'mkt_value': 0.0, 'asset_type': 'CRYPTO', 'currency': 'USD', 'avg_price': None}, {'symbol': 'EQO', 'industury': '', 'quantity': 0.0, 'mkt_value': 0.0, 'asset_type': 'CRYPTO', 'currency': 'USD', 'avg_price': None}]    230\n",
      "Name: positions, dtype: int64 \n",
      "\n"
     ]
    }
   ],
   "source": [
    "arr=[ 'nature', 'currency_code', 'subtype',  \n",
    "       'display_type', 'provider_name', 'country_code',\n",
    "       'type', 'card_type', 'positions']\n",
    "for a in arr:\n",
    "    print(a)\n",
    "    print(data_account[a].value_counts(),\"\\n\")"
   ]
  },
  {
   "cell_type": "markdown",
   "metadata": {},
   "source": [
    "#### 2.2.2 closer look into type"
   ]
  },
  {
   "cell_type": "code",
   "execution_count": 37,
   "metadata": {},
   "outputs": [
    {
     "data": {
      "text/plain": [
       "array(['customer_136', 'customer_201', 'customer_202', 'customer_203',\n",
       "       'customer_204', 'customer_205', 'customer_206', 'customer_207',\n",
       "       'customer_208', 'customer_209', 'customer_210', 'customer_211',\n",
       "       'customer_212', 'customer_213', 'customer_214', 'customer_215',\n",
       "       'customer_216', 'customer_217', 'customer_218', 'customer_219',\n",
       "       'customer_220', 'customer_221', 'customer_5'], dtype='<U13')"
      ]
     },
     "execution_count": 37,
     "metadata": {},
     "output_type": "execute_result"
    }
   ],
   "source": [
    "# list he customer has more than type > 2\n",
    "arr=data_account.groupby('psid')[\"type\"].agg('count')>2\n",
    "customer=np.array(list(data_account.groupby('psid').groups.keys()))\n",
    "customer[arr]"
   ]
  },
  {
   "cell_type": "code",
   "execution_count": 38,
   "metadata": {},
   "outputs": [
    {
     "name": "stdout",
     "output_type": "stream",
     "text": [
      "48     -5581.90\n",
      "66     -2016.13\n",
      "96    -20882.17\n",
      "122   -18990.05\n",
      "128       -0.07\n",
      "Name: balance, dtype: float64\n",
      "0     7629.60\n",
      "1    44169.46\n",
      "2     7629.60\n",
      "3        0.00\n",
      "4     7629.60\n",
      "Name: balance, dtype: float64\n"
     ]
    }
   ],
   "source": [
    "# Is the liability negetive?\n",
    "df=data_account[data_account['type']=='liability']\n",
    "df2=data_account[data_account['type']=='asset']\n",
    "print(df['balance'][0:5])\n",
    "print(df2[\"balance\"][0:5])"
   ]
  },
  {
   "cell_type": "markdown",
   "metadata": {},
   "source": [
    "### key takeaway for this section: \n",
    "1. convert Unit to HKD\n",
    "2. convert nature to 5 features: savings, account, credit_card, investment,card,insurance\n",
    "3. convert subtype to 3 features: liquid_asset, current_liability, illiquid_asset\n",
    "4. convert type to 3 features: asset, liability, net worth= asset+liability(liability is negetive, asset is postive)\n",
    "5. drop provider_name, country_code, positions, and so on"
   ]
  },
  {
   "cell_type": "markdown",
   "metadata": {},
   "source": [
    "### 2.3 Analyse numerical columns"
   ]
  },
  {
   "cell_type": "code",
   "execution_count": 41,
   "metadata": {},
   "outputs": [],
   "source": [
    "cs=data_account.select_dtypes(exclude=['object']).columns"
   ]
  },
  {
   "cell_type": "markdown",
   "metadata": {},
   "source": [
    "### 2.4 Clear the Data base on Takeaways"
   ]
  },
  {
   "cell_type": "code",
   "execution_count": 42,
   "metadata": {},
   "outputs": [],
   "source": [
    "def curreny_conversion(arrLike):  \n",
    "    ratio = get_ratio(arrLike['currency_code'])\n",
    "    arrLike[cs]*=ratio\n",
    "    return arrLike\n",
    "\n",
    "data_account = data_account.apply(curreny_conversion,axis=1)"
   ]
  },
  {
   "cell_type": "code",
   "execution_count": 43,
   "metadata": {},
   "outputs": [
    {
     "data": {
      "text/plain": [
       "Index(['psid', 'account_id', 'nature', 'created_at', 'balance_by_day',\n",
       "       'currency_code', 'subtype', 'name', 'account_name', 'updated_at',\n",
       "       'display_type', 'provider_name', 'connection_id', 'country_code',\n",
       "       'type', 'card_type', 'next_payment_date', 'positions', 'expiry_date',\n",
       "       'open_date'],\n",
       "      dtype='object')"
      ]
     },
     "execution_count": 43,
     "metadata": {},
     "output_type": "execute_result"
    }
   ],
   "source": [
    "data_account.select_dtypes(include=['object']).columns"
   ]
  },
  {
   "cell_type": "code",
   "execution_count": 44,
   "metadata": {},
   "outputs": [],
   "source": [
    "cvt_nature=pd.get_dummies(data_account.nature)\n",
    "cvt_subtype=pd.get_dummies(data_account.subtype)\n",
    "data_account.drop(['nature','subtype','currency_code'],axis=1,inplace=True)"
   ]
  },
  {
   "cell_type": "code",
   "execution_count": 45,
   "metadata": {},
   "outputs": [],
   "source": [
    "data_account.drop(['account_id', 'created_at', 'balance_by_day','name',\n",
    "       'display_type', 'provider_name', 'connection_id', 'country_code',\n",
    "        'card_type', 'next_payment_date', 'positions', 'expiry_date',\n",
    "       'open_date', 'account_name', 'updated_at'],axis=1,inplace=True)"
   ]
  },
  {
   "cell_type": "code",
   "execution_count": 46,
   "metadata": {},
   "outputs": [
    {
     "data": {
      "text/plain": [
       "Index(['psid', 'balance', 'type', 'credit_limit', 'available_amount',\n",
       "       'next_payment_amount'],\n",
       "      dtype='object')"
      ]
     },
     "execution_count": 46,
     "metadata": {},
     "output_type": "execute_result"
    }
   ],
   "source": [
    "data_account.columns"
   ]
  },
  {
   "cell_type": "code",
   "execution_count": 47,
   "metadata": {},
   "outputs": [],
   "source": [
    "cvt_type=pd.get_dummies(data_account.type)\n",
    "data_account.drop(['type'],axis=1,inplace=True)\n",
    "data_account = data_account.join(cvt_nature)\n",
    "data_account = data_account.join(cvt_subtype)\n",
    "data_account = data_account.join(cvt_type)"
   ]
  },
  {
   "cell_type": "code",
   "execution_count": 48,
   "metadata": {},
   "outputs": [],
   "source": [
    "cols=data_account.select_dtypes(include=['uint8']).columns\n",
    "for cc in cols:\n",
    "    data_account[cc]=data_account[cc]*data_account['balance']"
   ]
  },
  {
   "cell_type": "code",
   "execution_count": 49,
   "metadata": {},
   "outputs": [],
   "source": [
    "# the liability value is negetive, so use sum is ok\n",
    "df2=data_account.groupby('psid').sum()"
   ]
  },
  {
   "cell_type": "code",
   "execution_count": 50,
   "metadata": {},
   "outputs": [
    {
     "data": {
      "text/html": [
       "<div>\n",
       "<style scoped>\n",
       "    .dataframe tbody tr th:only-of-type {\n",
       "        vertical-align: middle;\n",
       "    }\n",
       "\n",
       "    .dataframe tbody tr th {\n",
       "        vertical-align: top;\n",
       "    }\n",
       "\n",
       "    .dataframe thead th {\n",
       "        text-align: right;\n",
       "    }\n",
       "</style>\n",
       "<table border=\"1\" class=\"dataframe\">\n",
       "  <thead>\n",
       "    <tr style=\"text-align: right;\">\n",
       "      <th></th>\n",
       "      <th>balance</th>\n",
       "      <th>credit_limit</th>\n",
       "      <th>available_amount</th>\n",
       "      <th>next_payment_amount</th>\n",
       "      <th>account</th>\n",
       "      <th>card</th>\n",
       "      <th>credit_card</th>\n",
       "      <th>insurance</th>\n",
       "      <th>investment</th>\n",
       "      <th>savings</th>\n",
       "      <th>current_liability</th>\n",
       "      <th>illiquid_asset</th>\n",
       "      <th>liquid_asset</th>\n",
       "      <th>asset</th>\n",
       "      <th>liability</th>\n",
       "    </tr>\n",
       "    <tr>\n",
       "      <th>psid</th>\n",
       "      <th></th>\n",
       "      <th></th>\n",
       "      <th></th>\n",
       "      <th></th>\n",
       "      <th></th>\n",
       "      <th></th>\n",
       "      <th></th>\n",
       "      <th></th>\n",
       "      <th></th>\n",
       "      <th></th>\n",
       "      <th></th>\n",
       "      <th></th>\n",
       "      <th></th>\n",
       "      <th></th>\n",
       "      <th></th>\n",
       "    </tr>\n",
       "  </thead>\n",
       "  <tbody>\n",
       "    <tr>\n",
       "      <th>customer_1</th>\n",
       "      <td>51799.06</td>\n",
       "      <td>0.0</td>\n",
       "      <td>0.0</td>\n",
       "      <td>0.0</td>\n",
       "      <td>0.0</td>\n",
       "      <td>0.0</td>\n",
       "      <td>0.0</td>\n",
       "      <td>0.0</td>\n",
       "      <td>0.0</td>\n",
       "      <td>51799.06</td>\n",
       "      <td>0.0</td>\n",
       "      <td>0.0</td>\n",
       "      <td>51799.06</td>\n",
       "      <td>51799.06</td>\n",
       "      <td>0.0</td>\n",
       "    </tr>\n",
       "    <tr>\n",
       "      <th>customer_10</th>\n",
       "      <td>51799.06</td>\n",
       "      <td>0.0</td>\n",
       "      <td>0.0</td>\n",
       "      <td>0.0</td>\n",
       "      <td>0.0</td>\n",
       "      <td>0.0</td>\n",
       "      <td>0.0</td>\n",
       "      <td>0.0</td>\n",
       "      <td>0.0</td>\n",
       "      <td>51799.06</td>\n",
       "      <td>0.0</td>\n",
       "      <td>0.0</td>\n",
       "      <td>51799.06</td>\n",
       "      <td>51799.06</td>\n",
       "      <td>0.0</td>\n",
       "    </tr>\n",
       "    <tr>\n",
       "      <th>customer_100</th>\n",
       "      <td>0.78</td>\n",
       "      <td>0.0</td>\n",
       "      <td>0.0</td>\n",
       "      <td>0.0</td>\n",
       "      <td>0.0</td>\n",
       "      <td>0.0</td>\n",
       "      <td>0.0</td>\n",
       "      <td>0.0</td>\n",
       "      <td>0.0</td>\n",
       "      <td>0.78</td>\n",
       "      <td>0.0</td>\n",
       "      <td>0.0</td>\n",
       "      <td>0.78</td>\n",
       "      <td>0.78</td>\n",
       "      <td>0.0</td>\n",
       "    </tr>\n",
       "    <tr>\n",
       "      <th>customer_1000</th>\n",
       "      <td>2578.85</td>\n",
       "      <td>0.0</td>\n",
       "      <td>0.0</td>\n",
       "      <td>0.0</td>\n",
       "      <td>0.0</td>\n",
       "      <td>0.0</td>\n",
       "      <td>0.0</td>\n",
       "      <td>0.0</td>\n",
       "      <td>0.0</td>\n",
       "      <td>2578.85</td>\n",
       "      <td>0.0</td>\n",
       "      <td>0.0</td>\n",
       "      <td>2578.85</td>\n",
       "      <td>2578.85</td>\n",
       "      <td>0.0</td>\n",
       "    </tr>\n",
       "    <tr>\n",
       "      <th>customer_1001</th>\n",
       "      <td>616447.61</td>\n",
       "      <td>0.0</td>\n",
       "      <td>0.0</td>\n",
       "      <td>0.0</td>\n",
       "      <td>0.0</td>\n",
       "      <td>0.0</td>\n",
       "      <td>0.0</td>\n",
       "      <td>0.0</td>\n",
       "      <td>0.0</td>\n",
       "      <td>616447.61</td>\n",
       "      <td>0.0</td>\n",
       "      <td>0.0</td>\n",
       "      <td>616447.61</td>\n",
       "      <td>616447.61</td>\n",
       "      <td>0.0</td>\n",
       "    </tr>\n",
       "  </tbody>\n",
       "</table>\n",
       "</div>"
      ],
      "text/plain": [
       "                 balance  credit_limit  available_amount  next_payment_amount  \\\n",
       "psid                                                                            \n",
       "customer_1      51799.06           0.0               0.0                  0.0   \n",
       "customer_10     51799.06           0.0               0.0                  0.0   \n",
       "customer_100        0.78           0.0               0.0                  0.0   \n",
       "customer_1000    2578.85           0.0               0.0                  0.0   \n",
       "customer_1001  616447.61           0.0               0.0                  0.0   \n",
       "\n",
       "               account  card  credit_card  insurance  investment    savings  \\\n",
       "psid                                                                          \n",
       "customer_1         0.0   0.0          0.0        0.0         0.0   51799.06   \n",
       "customer_10        0.0   0.0          0.0        0.0         0.0   51799.06   \n",
       "customer_100       0.0   0.0          0.0        0.0         0.0       0.78   \n",
       "customer_1000      0.0   0.0          0.0        0.0         0.0    2578.85   \n",
       "customer_1001      0.0   0.0          0.0        0.0         0.0  616447.61   \n",
       "\n",
       "               current_liability  illiquid_asset  liquid_asset      asset  \\\n",
       "psid                                                                        \n",
       "customer_1                   0.0             0.0      51799.06   51799.06   \n",
       "customer_10                  0.0             0.0      51799.06   51799.06   \n",
       "customer_100                 0.0             0.0          0.78       0.78   \n",
       "customer_1000                0.0             0.0       2578.85    2578.85   \n",
       "customer_1001                0.0             0.0     616447.61  616447.61   \n",
       "\n",
       "               liability  \n",
       "psid                      \n",
       "customer_1           0.0  \n",
       "customer_10          0.0  \n",
       "customer_100         0.0  \n",
       "customer_1000        0.0  \n",
       "customer_1001        0.0  "
      ]
     },
     "execution_count": 50,
     "metadata": {},
     "output_type": "execute_result"
    }
   ],
   "source": [
    "df2.head()"
   ]
  },
  {
   "cell_type": "markdown",
   "metadata": {},
   "source": [
    "## 3. Analyse data_transaction"
   ]
  },
  {
   "cell_type": "markdown",
   "metadata": {},
   "source": [
    "### 3.1 Preliminary analyse"
   ]
  },
  {
   "cell_type": "code",
   "execution_count": 51,
   "metadata": {},
   "outputs": [
    {
     "name": "stdout",
     "output_type": "stream",
     "text": [
      "psid ['customer_1']\n",
      "transaction_id [4.82625e+17]\n",
      "account_id [4.83e+17]\n",
      "created_at ['2021-05-15T09:56:49Z']\n",
      "mode ['normal']\n",
      "status ['posted']\n",
      "currency_code ['HKD']\n",
      "areix_category ['Financials']\n",
      "updated_at ['2021-05-15T09:56:49Z']\n",
      "account_name ['HKD Statement Savings - 585-898042-292 HKD']\n",
      "made_on ['3/19/2021']\n",
      "category ['transfer']\n",
      "amount [1200.]\n",
      "provider_name ['HSBC']\n",
      "description ['FROM USER N31957683621(19MAR21)']\n",
      "country_code ['HK']\n",
      "merchant_id [nan]\n",
      "merchant [nan]\n"
     ]
    }
   ],
   "source": [
    "for i in data_transaction[0:1].columns:\n",
    "    print(data_transaction[0:1][i].name,data_transaction[0:1][i].values)"
   ]
  },
  {
   "cell_type": "code",
   "execution_count": 52,
   "metadata": {},
   "outputs": [
    {
     "data": {
      "text/plain": [
       "Index(['psid', 'transaction_id', 'account_id', 'created_at', 'mode', 'status',\n",
       "       'currency_code', 'areix_category', 'updated_at', 'account_name',\n",
       "       'made_on', 'category', 'amount', 'provider_name', 'description',\n",
       "       'country_code', 'merchant_id', 'merchant'],\n",
       "      dtype='object')"
      ]
     },
     "execution_count": 52,
     "metadata": {},
     "output_type": "execute_result"
    }
   ],
   "source": [
    "data_transaction.columns"
   ]
  },
  {
   "cell_type": "code",
   "execution_count": 53,
   "metadata": {},
   "outputs": [
    {
     "data": {
      "text/html": [
       "<div>\n",
       "<style scoped>\n",
       "    .dataframe tbody tr th:only-of-type {\n",
       "        vertical-align: middle;\n",
       "    }\n",
       "\n",
       "    .dataframe tbody tr th {\n",
       "        vertical-align: top;\n",
       "    }\n",
       "\n",
       "    .dataframe thead th {\n",
       "        text-align: right;\n",
       "    }\n",
       "</style>\n",
       "<table border=\"1\" class=\"dataframe\">\n",
       "  <thead>\n",
       "    <tr style=\"text-align: right;\">\n",
       "      <th></th>\n",
       "      <th>transaction_id</th>\n",
       "      <th>account_id</th>\n",
       "      <th>amount</th>\n",
       "    </tr>\n",
       "  </thead>\n",
       "  <tbody>\n",
       "    <tr>\n",
       "      <th>count</th>\n",
       "      <td>6.423900e+04</td>\n",
       "      <td>6.423900e+04</td>\n",
       "      <td>64239.000000</td>\n",
       "    </tr>\n",
       "    <tr>\n",
       "      <th>mean</th>\n",
       "      <td>4.754149e+17</td>\n",
       "      <td>4.740644e+17</td>\n",
       "      <td>-276.758054</td>\n",
       "    </tr>\n",
       "    <tr>\n",
       "      <th>std</th>\n",
       "      <td>7.550281e+15</td>\n",
       "      <td>8.284621e+15</td>\n",
       "      <td>8150.851649</td>\n",
       "    </tr>\n",
       "    <tr>\n",
       "      <th>min</th>\n",
       "      <td>4.661470e+17</td>\n",
       "      <td>4.660000e+17</td>\n",
       "      <td>-99999.000000</td>\n",
       "    </tr>\n",
       "    <tr>\n",
       "      <th>25%</th>\n",
       "      <td>4.661470e+17</td>\n",
       "      <td>4.660000e+17</td>\n",
       "      <td>-320.000000</td>\n",
       "    </tr>\n",
       "    <tr>\n",
       "      <th>50%</th>\n",
       "      <td>4.791320e+17</td>\n",
       "      <td>4.670000e+17</td>\n",
       "      <td>-125.730000</td>\n",
       "    </tr>\n",
       "    <tr>\n",
       "      <th>75%</th>\n",
       "      <td>4.825460e+17</td>\n",
       "      <td>4.830000e+17</td>\n",
       "      <td>-81.440000</td>\n",
       "    </tr>\n",
       "    <tr>\n",
       "      <th>max</th>\n",
       "      <td>4.840160e+17</td>\n",
       "      <td>4.840000e+17</td>\n",
       "      <td>61222.210000</td>\n",
       "    </tr>\n",
       "  </tbody>\n",
       "</table>\n",
       "</div>"
      ],
      "text/plain": [
       "       transaction_id    account_id        amount\n",
       "count    6.423900e+04  6.423900e+04  64239.000000\n",
       "mean     4.754149e+17  4.740644e+17   -276.758054\n",
       "std      7.550281e+15  8.284621e+15   8150.851649\n",
       "min      4.661470e+17  4.660000e+17 -99999.000000\n",
       "25%      4.661470e+17  4.660000e+17   -320.000000\n",
       "50%      4.791320e+17  4.670000e+17   -125.730000\n",
       "75%      4.825460e+17  4.830000e+17    -81.440000\n",
       "max      4.840160e+17  4.840000e+17  61222.210000"
      ]
     },
     "execution_count": 53,
     "metadata": {},
     "output_type": "execute_result"
    }
   ],
   "source": [
    "data_transaction.describe()"
   ]
  },
  {
   "cell_type": "code",
   "execution_count": 54,
   "metadata": {},
   "outputs": [
    {
     "name": "stdout",
     "output_type": "stream",
     "text": [
      "<class 'pandas.core.frame.DataFrame'>\n",
      "RangeIndex: 64239 entries, 0 to 64238\n",
      "Data columns (total 18 columns):\n",
      " #   Column          Non-Null Count  Dtype  \n",
      "---  ------          --------------  -----  \n",
      " 0   psid            64239 non-null  object \n",
      " 1   transaction_id  64239 non-null  float64\n",
      " 2   account_id      64239 non-null  float64\n",
      " 3   created_at      64239 non-null  object \n",
      " 4   mode            64239 non-null  object \n",
      " 5   status          64239 non-null  object \n",
      " 6   currency_code   64239 non-null  object \n",
      " 7   areix_category  64239 non-null  object \n",
      " 8   updated_at      64239 non-null  object \n",
      " 9   account_name    64239 non-null  object \n",
      " 10  made_on         64239 non-null  object \n",
      " 11  category        64239 non-null  object \n",
      " 12  amount          64239 non-null  float64\n",
      " 13  provider_name   64239 non-null  object \n",
      " 14  description     64239 non-null  object \n",
      " 15  country_code    64239 non-null  object \n",
      " 16  merchant_id     40503 non-null  object \n",
      " 17  merchant        4554 non-null   object \n",
      "dtypes: float64(3), object(15)\n",
      "memory usage: 8.8+ MB\n"
     ]
    }
   ],
   "source": [
    "data_transaction.info()"
   ]
  },
  {
   "cell_type": "markdown",
   "metadata": {},
   "source": [
    "### 3.2 Analyse catogorical columns"
   ]
  },
  {
   "cell_type": "code",
   "execution_count": 55,
   "metadata": {},
   "outputs": [
    {
     "data": {
      "text/plain": [
       "Index(['psid', 'created_at', 'mode', 'status', 'currency_code',\n",
       "       'areix_category', 'updated_at', 'account_name', 'made_on', 'category',\n",
       "       'provider_name', 'description', 'country_code', 'merchant_id',\n",
       "       'merchant'],\n",
       "      dtype='object')"
      ]
     },
     "execution_count": 55,
     "metadata": {},
     "output_type": "execute_result"
    }
   ],
   "source": [
    "catg_tsc=data_transaction.select_dtypes(include=['object']).columns\n",
    "catg_tsc"
   ]
  },
  {
   "cell_type": "markdown",
   "metadata": {},
   "source": [
    "#### 3.2.1 see the details of some import columns"
   ]
  },
  {
   "cell_type": "code",
   "execution_count": 56,
   "metadata": {},
   "outputs": [
    {
     "name": "stdout",
     "output_type": "stream",
     "text": [
      "mode\n",
      "normal      61548\n",
      "transfer     2346\n",
      "fee           345\n",
      "Name: mode, dtype: int64 \n",
      "\n",
      "status\n",
      "posted     60513\n",
      "pending     3726\n",
      "Name: status, dtype: int64 \n",
      "\n",
      "currency_code\n",
      "HKD    63066\n",
      "USD      897\n",
      "EUR      276\n",
      "Name: currency_code, dtype: int64 \n",
      "\n",
      "areix_category\n",
      "Transportation       20493\n",
      "Dining & Beverage    17112\n",
      "Financials           13731\n",
      "Leisure               5175\n",
      "Others                5106\n",
      "Shopping              1794\n",
      "Home                   621\n",
      "Healthcare             207\n",
      "Name: areix_category, dtype: int64 \n",
      "\n",
      "category\n",
      "taxi                        20493\n",
      "food_and_dining             11385\n",
      "transfer                     7939\n",
      "hotel                        4347\n",
      "uncategorized                3864\n",
      "cafes_and_restaurants        3036\n",
      "groceries                    2484\n",
      "income                       1242\n",
      "investment_income            1035\n",
      "service_fee                  1032\n",
      "travel                        828\n",
      "shopping                      759\n",
      "clothing                      759\n",
      "fees_and_charges              628\n",
      "phone                         621\n",
      "business_services             621\n",
      "provider_fee                  528\n",
      "paycheck                      497\n",
      "advertising                   483\n",
      "bonus                         414\n",
      "electronics_and_software      276\n",
      "alcohol_and_bars              207\n",
      "gifts                         138\n",
      "personal_care                 138\n",
      "doctor                         69\n",
      "taxes                          52\n",
      "education                      51\n",
      "tuition                        48\n",
      "loans                          48\n",
      "property_insurance             42\n",
      "student_loan                   39\n",
      "health_insurance               38\n",
      "insurance                      36\n",
      "car_insurance                  33\n",
      "life_insurance                 29\n",
      "Name: category, dtype: int64 \n",
      "\n",
      "provider_name\n",
      "Standard Chartered           51612\n",
      "Hang Seng                     5175\n",
      "HSBC                          4623\n",
      "Bank of China (Hong Kong)     1725\n",
      "Fake Bank with Image          1104\n",
      "Name: provider_name, dtype: int64 \n",
      "\n",
      "country_code\n",
      "HK    63135\n",
      "XF     1104\n",
      "Name: country_code, dtype: int64 \n",
      "\n",
      "merchant\n",
      "Uber                    483\n",
      "Deliveroo               483\n",
      "Birdie Mobile           276\n",
      "7-eleven                207\n",
      "Kerry Hotel             138\n",
      "缇庡績瑗块                   138\n",
      "钀瀵                      138\n",
      "Klook                   138\n",
      "Starbucks               138\n",
      "On-yasai                138\n",
      "Google                  138\n",
      "Facebook                138\n",
      "Apple Inc               138\n",
      "Prudential Hong Kong    138\n",
      "Teawood                 138\n",
      "Foodpanda               138\n",
      "璀氫粩涓夊摜                  138\n",
      "Linkedin                138\n",
      "Uniqlo                  138\n",
      "Hyatt Hotels            138\n",
      "Hktvmall                138\n",
      "鐧句匠                     138\n",
      "The Night Market        138\n",
      "楹哄眿姝﹁數                  138\n",
      "Tommy Hilfiger          138\n",
      "Lcx                     138\n",
      "Ftlife Insurance         69\n",
      "Name: merchant, dtype: int64 \n",
      "\n"
     ]
    }
   ],
   "source": [
    "arr=[  'mode', 'status', 'currency_code',\n",
    "       'areix_category',  'category',\n",
    "       'provider_name', 'country_code',\n",
    "       'merchant']\n",
    "for a in arr:\n",
    "    print(a)\n",
    "    print(data_transaction[a].value_counts(),\"\\n\")"
   ]
  },
  {
   "cell_type": "markdown",
   "metadata": {},
   "source": [
    "### key takeaway for this section: \n",
    "1. drop all catogory columns except 'mode','status','areix_category'\n",
    "2. convert to HKD"
   ]
  },
  {
   "cell_type": "markdown",
   "metadata": {},
   "source": [
    "### 3.3 Analyse numerical columns"
   ]
  },
  {
   "cell_type": "code",
   "execution_count": 57,
   "metadata": {},
   "outputs": [
    {
     "data": {
      "text/plain": [
       "Index(['transaction_id', 'account_id', 'amount'], dtype='object')"
      ]
     },
     "execution_count": 57,
     "metadata": {},
     "output_type": "execute_result"
    }
   ],
   "source": [
    "data_transaction.select_dtypes(exclude=['object']).columns"
   ]
  },
  {
   "cell_type": "markdown",
   "metadata": {},
   "source": [
    "### key takeaway for this section: \n",
    "1. drop all catogory columns except 'amount'"
   ]
  },
  {
   "cell_type": "markdown",
   "metadata": {},
   "source": [
    "### 3.4 Clear the Data base on Takeaways"
   ]
  },
  {
   "cell_type": "code",
   "execution_count": 58,
   "metadata": {},
   "outputs": [],
   "source": [
    "data_transaction.drop(['transaction_id', 'account_id'],axis=1,inplace=True)"
   ]
  },
  {
   "cell_type": "code",
   "execution_count": 59,
   "metadata": {},
   "outputs": [],
   "source": [
    "cs='amount'\n",
    "data_transaction = data_transaction.apply(curreny_conversion,axis=1)"
   ]
  },
  {
   "cell_type": "code",
   "execution_count": 60,
   "metadata": {},
   "outputs": [],
   "source": [
    "cvt_areix_category=pd.get_dummies(data_transaction.areix_category)\n",
    "data_transaction.drop(['created_at', 'status', 'updated_at', 'account_name', 'made_on',\n",
    "       'category', 'provider_name', 'description', 'country_code',\n",
    "       'merchant_id', 'merchant','mode','areix_category','currency_code'],axis=1,inplace=True)"
   ]
  },
  {
   "cell_type": "code",
   "execution_count": 61,
   "metadata": {},
   "outputs": [
    {
     "data": {
      "text/plain": [
       "Index(['psid', 'amount'], dtype='object')"
      ]
     },
     "execution_count": 61,
     "metadata": {},
     "output_type": "execute_result"
    }
   ],
   "source": [
    "data_transaction.columns"
   ]
  },
  {
   "cell_type": "code",
   "execution_count": 62,
   "metadata": {},
   "outputs": [],
   "source": [
    "data_transaction=data_transaction.join(cvt_areix_category)"
   ]
  },
  {
   "cell_type": "code",
   "execution_count": 63,
   "metadata": {},
   "outputs": [],
   "source": [
    "cols=data_transaction.select_dtypes(include=['uint8']).columns\n",
    "for cc in cols:\n",
    "    data_transaction[cc]=data_transaction[cc]*data_transaction['amount']"
   ]
  },
  {
   "cell_type": "code",
   "execution_count": 64,
   "metadata": {},
   "outputs": [],
   "source": [
    "df3=data_transaction.groupby('psid').sum()"
   ]
  },
  {
   "cell_type": "code",
   "execution_count": 65,
   "metadata": {},
   "outputs": [
    {
     "data": {
      "text/html": [
       "<div>\n",
       "<style scoped>\n",
       "    .dataframe tbody tr th:only-of-type {\n",
       "        vertical-align: middle;\n",
       "    }\n",
       "\n",
       "    .dataframe tbody tr th {\n",
       "        vertical-align: top;\n",
       "    }\n",
       "\n",
       "    .dataframe thead th {\n",
       "        text-align: right;\n",
       "    }\n",
       "</style>\n",
       "<table border=\"1\" class=\"dataframe\">\n",
       "  <thead>\n",
       "    <tr style=\"text-align: right;\">\n",
       "      <th></th>\n",
       "      <th>amount</th>\n",
       "      <th>Dining &amp; Beverage</th>\n",
       "      <th>Financials</th>\n",
       "      <th>Healthcare</th>\n",
       "      <th>Home</th>\n",
       "      <th>Leisure</th>\n",
       "      <th>Others</th>\n",
       "      <th>Shopping</th>\n",
       "      <th>Transportation</th>\n",
       "    </tr>\n",
       "    <tr>\n",
       "      <th>psid</th>\n",
       "      <th></th>\n",
       "      <th></th>\n",
       "      <th></th>\n",
       "      <th></th>\n",
       "      <th></th>\n",
       "      <th></th>\n",
       "      <th></th>\n",
       "      <th></th>\n",
       "      <th></th>\n",
       "    </tr>\n",
       "  </thead>\n",
       "  <tbody>\n",
       "    <tr>\n",
       "      <th>customer_1</th>\n",
       "      <td>-1324.43</td>\n",
       "      <td>0.0</td>\n",
       "      <td>2861.57</td>\n",
       "      <td>0.0</td>\n",
       "      <td>0.0</td>\n",
       "      <td>0.0</td>\n",
       "      <td>-4186.0</td>\n",
       "      <td>0.0</td>\n",
       "      <td>0.0</td>\n",
       "    </tr>\n",
       "    <tr>\n",
       "      <th>customer_10</th>\n",
       "      <td>-1324.43</td>\n",
       "      <td>0.0</td>\n",
       "      <td>2861.57</td>\n",
       "      <td>0.0</td>\n",
       "      <td>0.0</td>\n",
       "      <td>0.0</td>\n",
       "      <td>-4186.0</td>\n",
       "      <td>0.0</td>\n",
       "      <td>0.0</td>\n",
       "    </tr>\n",
       "    <tr>\n",
       "      <th>customer_100</th>\n",
       "      <td>-62400.00</td>\n",
       "      <td>0.0</td>\n",
       "      <td>0.00</td>\n",
       "      <td>0.0</td>\n",
       "      <td>0.0</td>\n",
       "      <td>0.0</td>\n",
       "      <td>-62400.0</td>\n",
       "      <td>0.0</td>\n",
       "      <td>0.0</td>\n",
       "    </tr>\n",
       "    <tr>\n",
       "      <th>customer_1000</th>\n",
       "      <td>-578.98</td>\n",
       "      <td>1122.0</td>\n",
       "      <td>-1700.98</td>\n",
       "      <td>0.0</td>\n",
       "      <td>0.0</td>\n",
       "      <td>0.0</td>\n",
       "      <td>0.0</td>\n",
       "      <td>0.0</td>\n",
       "      <td>0.0</td>\n",
       "    </tr>\n",
       "    <tr>\n",
       "      <th>customer_1001</th>\n",
       "      <td>-102184.48</td>\n",
       "      <td>-512.0</td>\n",
       "      <td>-1305.48</td>\n",
       "      <td>-50000.0</td>\n",
       "      <td>0.0</td>\n",
       "      <td>0.0</td>\n",
       "      <td>-50367.0</td>\n",
       "      <td>0.0</td>\n",
       "      <td>0.0</td>\n",
       "    </tr>\n",
       "  </tbody>\n",
       "</table>\n",
       "</div>"
      ],
      "text/plain": [
       "                  amount  Dining & Beverage  Financials  Healthcare  Home  \\\n",
       "psid                                                                        \n",
       "customer_1      -1324.43                0.0     2861.57         0.0   0.0   \n",
       "customer_10     -1324.43                0.0     2861.57         0.0   0.0   \n",
       "customer_100   -62400.00                0.0        0.00         0.0   0.0   \n",
       "customer_1000    -578.98             1122.0    -1700.98         0.0   0.0   \n",
       "customer_1001 -102184.48             -512.0    -1305.48    -50000.0   0.0   \n",
       "\n",
       "               Leisure   Others  Shopping  Transportation  \n",
       "psid                                                       \n",
       "customer_1         0.0  -4186.0       0.0             0.0  \n",
       "customer_10        0.0  -4186.0       0.0             0.0  \n",
       "customer_100       0.0 -62400.0       0.0             0.0  \n",
       "customer_1000      0.0      0.0       0.0             0.0  \n",
       "customer_1001      0.0 -50367.0       0.0             0.0  "
      ]
     },
     "execution_count": 65,
     "metadata": {},
     "output_type": "execute_result"
    }
   ],
   "source": [
    "df3.head()"
   ]
  },
  {
   "cell_type": "markdown",
   "metadata": {},
   "source": [
    "## 4. Analyse dataset together"
   ]
  },
  {
   "cell_type": "code",
   "execution_count": 69,
   "metadata": {},
   "outputs": [
    {
     "name": "stdout",
     "output_type": "stream",
     "text": [
      "['./out.csv', './out2.csv', './out3.csv']\n"
     ]
    }
   ],
   "source": [
    "file_paths=(glob.glob(\"./*.csv\"))\n",
    "file_paths.sort();\n",
    "print(file_paths)\n",
    "df_budget=pd.read_csv(file_paths[0])\n",
    "df_account=pd.read_csv(file_paths[1])\n",
    "df_transaction=pd.read_csv(file_paths[2])"
   ]
  },
  {
   "cell_type": "code",
   "execution_count": 70,
   "metadata": {},
   "outputs": [
    {
     "name": "stdout",
     "output_type": "stream",
     "text": [
      "1287 1334 1334\n"
     ]
    }
   ],
   "source": [
    "s1=set(df_budget['psid'])\n",
    "s2=set(df_account['psid'])\n",
    "s3=set(df_transaction['psid'])\n",
    "print(len(s1),len(s2),len(s3))"
   ]
  },
  {
   "cell_type": "code",
   "execution_count": 71,
   "metadata": {},
   "outputs": [],
   "source": [
    "df_budget=df_budget.set_index('psid')\n",
    "df_account=df_account.set_index('psid')\n",
    "df_transaction=df_transaction.set_index('psid')"
   ]
  },
  {
   "cell_type": "code",
   "execution_count": 72,
   "metadata": {},
   "outputs": [],
   "source": [
    "del_cumtomers=list(s2-s1)\n",
    "df_account.drop(index=del_cumtomers,inplace=True)\n",
    "df_transaction.drop(index=del_cumtomers,inplace=True)"
   ]
  },
  {
   "cell_type": "code",
   "execution_count": 73,
   "metadata": {},
   "outputs": [
    {
     "data": {
      "image/png": "[encoded data removed]",
      "text/plain": [
       "<Figure size 432x288 with 1 Axes>"
      ]
     },
     "metadata": {},
     "output_type": "display_data"
    }
   ],
   "source": [
    "budget_set=set(df_budget.columns)\n",
    "account_set=set(df_account.columns)\n",
    "transaction_set=set(df_transaction.columns)\n",
    "v=venn3([budget_set, account_set,transaction_set])\n",
    "v.get_label_by_id('A').set_text('data_budget')\n",
    "v.get_label_by_id('B').set_text('data_account')\n",
    "v.get_label_by_id('C').set_text('data_transaction')\n",
    "plt.show()"
   ]
  },
  {
   "cell_type": "code",
   "execution_count": 74,
   "metadata": {},
   "outputs": [
    {
     "name": "stdout",
     "output_type": "stream",
     "text": [
      "{'Leisure', 'amount', 'Healthcare'}\n"
     ]
    }
   ],
   "source": [
    "print(budget_set&transaction_set)"
   ]
  },
  {
   "cell_type": "code",
   "execution_count": 75,
   "metadata": {},
   "outputs": [],
   "source": [
    "df_budget=df_budget.rename({'amount':'amount_bgt','Leisure':'Leisure_bgt','Healthcare':'Healthcare_bgt','Dining':'Dining_bgt', \n",
    "                            'Education':'Education_bgt' , 'Home / Family':'Home_bgt', 'Property':'Property_bgt'}, axis='columns')"
   ]
  },
  {
   "cell_type": "code",
   "execution_count": 76,
   "metadata": {},
   "outputs": [],
   "source": [
    "df=df_account.join(df_budget)\n",
    "df=df.join(df_transaction)"
   ]
  },
  {
   "cell_type": "code",
   "execution_count": 77,
   "metadata": {},
   "outputs": [
    {
     "data": {
      "text/plain": [
       "(1287, 76)"
      ]
     },
     "execution_count": 77,
     "metadata": {},
     "output_type": "execute_result"
    }
   ],
   "source": [
    "df.shape"
   ]
  },
  {
   "cell_type": "code",
   "execution_count": 78,
   "metadata": {},
   "outputs": [],
   "source": [
    "df.to_csv(\"../data/clean_data.csv\")"
   ]
  }
 ],
 "metadata": {
  "kernelspec": {
   "display_name": "Python 3",
   "language": "python",
   "name": "python3"
  },
  "language_info": {
   "codemirror_mode": {
    "name": "ipython",
    "version": 3
   },
   "file_extension": ".py",
   "mimetype": "text/x-python",
   "name": "python",
   "nbconvert_exporter": "python",
   "pygments_lexer": "ipython3",
   "version": "3.8.8"
  }
 },
 "nbformat": 4,
 "nbformat_minor": 4
}
