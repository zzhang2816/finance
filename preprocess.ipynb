{
 "cells": [
  {
   "cell_type": "markdown",
   "metadata": {},
   "source": [
    "This part is working to:\n",
    "1. Gain a preliminary understanding of data\n",
    "2. Merge the files"
   ]
  },
  {
   "cell_type": "code",
   "execution_count": 3,
   "metadata": {
    "tags": []
   },
   "outputs": [],
   "source": [
    "# Core\n",
    "import pandas as pd\n",
    "import numpy as np\n",
    "\n",
    "# Data Visualisation\n",
    "import matplotlib.pyplot as plt\n",
    "import glob\n",
    "# import seaborn as sns\n",
    "# %matplotlib inline\n",
    "from matplotlib_venn import venn3"
   ]
  },
  {
   "cell_type": "code",
   "execution_count": 3,
   "metadata": {},
   "outputs": [
    {
     "name": "stdout",
     "output_type": "stream",
     "text": [
      "['../data/Data_budget.csv', '../data/Data_account.csv', '../data/Data_Transaction.csv']\n"
     ]
    }
   ],
   "source": [
    "file_paths=glob.glob(\"../data/*.csv\")\n",
    "print(file_paths)\n",
    "data_budget=pd.read_csv(file_paths[0])\n",
    "data_account=pd.read_csv(file_paths[1])\n",
    "data_transaction=pd.read_csv(file_paths[2])"
   ]
  },
  {
   "cell_type": "markdown",
   "metadata": {},
   "source": [
    "## 1. Analyse data_budget"
   ]
  },
  {
   "cell_type": "markdown",
   "metadata": {},
   "source": [
    "### 1.1 Preliminary analyse"
   ]
  },
  {
   "cell_type": "code",
   "execution_count": 5,
   "metadata": {},
   "outputs": [
    {
     "data": {
      "text/html": [
       "<div>\n",
       "<style scoped>\n",
       "    .dataframe tbody tr th:only-of-type {\n",
       "        vertical-align: middle;\n",
       "    }\n",
       "\n",
       "    .dataframe tbody tr th {\n",
       "        vertical-align: top;\n",
       "    }\n",
       "\n",
       "    .dataframe thead th {\n",
       "        text-align: right;\n",
       "    }\n",
       "</style>\n",
       "<table border=\"1\" class=\"dataframe\">\n",
       "  <thead>\n",
       "    <tr style=\"text-align: right;\">\n",
       "      <th></th>\n",
       "      <th>currency</th>\n",
       "      <th>budget</th>\n",
       "      <th>status</th>\n",
       "      <th>budget_cut_weekly</th>\n",
       "      <th>goal_id</th>\n",
       "      <th>wealth_growth</th>\n",
       "      <th>monthly_max_saving</th>\n",
       "      <th>budget_daily</th>\n",
       "      <th>feasible</th>\n",
       "      <th>budget_monthly</th>\n",
       "      <th>...</th>\n",
       "      <th>start_date</th>\n",
       "      <th>category</th>\n",
       "      <th>monthly_avg_income</th>\n",
       "      <th>amount</th>\n",
       "      <th>budget_cut_daily</th>\n",
       "      <th>current_goal_budget_cut_by_day</th>\n",
       "      <th>budget_weekly</th>\n",
       "      <th>snapshot</th>\n",
       "      <th>goal_name</th>\n",
       "      <th>remarks</th>\n",
       "    </tr>\n",
       "  </thead>\n",
       "  <tbody>\n",
       "    <tr>\n",
       "      <th>0</th>\n",
       "      <td>USD</td>\n",
       "      <td>{'Others': {'budget_weekly': 1.984466361099931...</td>\n",
       "      <td>In progress</td>\n",
       "      <td>35.280294</td>\n",
       "      <td>23068219672</td>\n",
       "      <td>0.0</td>\n",
       "      <td>-167.438712</td>\n",
       "      <td>0.112001</td>\n",
       "      <td>False</td>\n",
       "      <td>3.360028</td>\n",
       "      <td>...</td>\n",
       "      <td>2021-05-15</td>\n",
       "      <td>Saving</td>\n",
       "      <td>154.561288</td>\n",
       "      <td>463.683864</td>\n",
       "      <td>5.040042</td>\n",
       "      <td>5.040042</td>\n",
       "      <td>0.784007</td>\n",
       "      <td>{'monthly': {'budget_monthly': 3.360028, 'amou...</td>\n",
       "      <td>Emergency Fund</td>\n",
       "      <td>Your Emergency Fund for 3 months</td>\n",
       "    </tr>\n",
       "    <tr>\n",
       "      <th>1</th>\n",
       "      <td>HKD</td>\n",
       "      <td>{'Others': {'budget_weekly': 3.19084248957671,...</td>\n",
       "      <td>In progress</td>\n",
       "      <td>29.083871</td>\n",
       "      <td>83968004351</td>\n",
       "      <td>0.0</td>\n",
       "      <td>-167.438712</td>\n",
       "      <td>0.997204</td>\n",
       "      <td>False</td>\n",
       "      <td>29.916127</td>\n",
       "      <td>...</td>\n",
       "      <td>2021-05-15</td>\n",
       "      <td>Dining</td>\n",
       "      <td>154.561288</td>\n",
       "      <td>1000.000000</td>\n",
       "      <td>4.154839</td>\n",
       "      <td>4.154839</td>\n",
       "      <td>6.980430</td>\n",
       "      <td>{'monthly': {'budget_monthly': 29.916126709677...</td>\n",
       "      <td>cheaper food</td>\n",
       "      <td>NaN</td>\n",
       "    </tr>\n",
       "    <tr>\n",
       "      <th>2</th>\n",
       "      <td>USD</td>\n",
       "      <td>{'Others': {'budget_weekly': 1.984466361099931...</td>\n",
       "      <td>In progress</td>\n",
       "      <td>35.280294</td>\n",
       "      <td>23068219672</td>\n",
       "      <td>0.0</td>\n",
       "      <td>-167.438712</td>\n",
       "      <td>0.112001</td>\n",
       "      <td>False</td>\n",
       "      <td>3.360028</td>\n",
       "      <td>...</td>\n",
       "      <td>2021-05-15</td>\n",
       "      <td>Saving</td>\n",
       "      <td>154.561288</td>\n",
       "      <td>463.683864</td>\n",
       "      <td>5.040042</td>\n",
       "      <td>5.040042</td>\n",
       "      <td>0.784007</td>\n",
       "      <td>{'monthly': {'budget_monthly': 3.360028, 'amou...</td>\n",
       "      <td>Emergency Fund</td>\n",
       "      <td>Your Emergency Fund for 3 months</td>\n",
       "    </tr>\n",
       "    <tr>\n",
       "      <th>3</th>\n",
       "      <td>HKD</td>\n",
       "      <td>{'Others': {'budget_weekly': 3.19084248957671,...</td>\n",
       "      <td>In progress</td>\n",
       "      <td>29.083871</td>\n",
       "      <td>83968004351</td>\n",
       "      <td>0.0</td>\n",
       "      <td>-167.438712</td>\n",
       "      <td>0.997204</td>\n",
       "      <td>False</td>\n",
       "      <td>29.916127</td>\n",
       "      <td>...</td>\n",
       "      <td>2021-05-15</td>\n",
       "      <td>Dining</td>\n",
       "      <td>154.561288</td>\n",
       "      <td>1000.000000</td>\n",
       "      <td>4.154839</td>\n",
       "      <td>4.154839</td>\n",
       "      <td>6.980430</td>\n",
       "      <td>{'monthly': {'budget_monthly': 29.916126709677...</td>\n",
       "      <td>cheaper food</td>\n",
       "      <td>NaN</td>\n",
       "    </tr>\n",
       "    <tr>\n",
       "      <th>4</th>\n",
       "      <td>USD</td>\n",
       "      <td>{'Others': {'budget_weekly': 1.984466361099931...</td>\n",
       "      <td>In progress</td>\n",
       "      <td>35.280294</td>\n",
       "      <td>23068219672</td>\n",
       "      <td>0.0</td>\n",
       "      <td>-167.438712</td>\n",
       "      <td>0.112001</td>\n",
       "      <td>False</td>\n",
       "      <td>3.360028</td>\n",
       "      <td>...</td>\n",
       "      <td>2021-05-15</td>\n",
       "      <td>Saving</td>\n",
       "      <td>154.561288</td>\n",
       "      <td>463.683864</td>\n",
       "      <td>5.040042</td>\n",
       "      <td>5.040042</td>\n",
       "      <td>0.784007</td>\n",
       "      <td>{'monthly': {'budget_monthly': 3.360028, 'amou...</td>\n",
       "      <td>Emergency Fund</td>\n",
       "      <td>Your Emergency Fund for 3 months</td>\n",
       "    </tr>\n",
       "  </tbody>\n",
       "</table>\n",
       "<p>5 rows × 31 columns</p>\n",
       "</div>"
      ],
      "text/plain": [
       "  currency                                             budget       status  \\\n",
       "0      USD  {'Others': {'budget_weekly': 1.984466361099931...  In progress   \n",
       "1      HKD  {'Others': {'budget_weekly': 3.19084248957671,...  In progress   \n",
       "2      USD  {'Others': {'budget_weekly': 1.984466361099931...  In progress   \n",
       "3      HKD  {'Others': {'budget_weekly': 3.19084248957671,...  In progress   \n",
       "4      USD  {'Others': {'budget_weekly': 1.984466361099931...  In progress   \n",
       "\n",
       "   budget_cut_weekly      goal_id  wealth_growth  monthly_max_saving  \\\n",
       "0          35.280294  23068219672            0.0         -167.438712   \n",
       "1          29.083871  83968004351            0.0         -167.438712   \n",
       "2          35.280294  23068219672            0.0         -167.438712   \n",
       "3          29.083871  83968004351            0.0         -167.438712   \n",
       "4          35.280294  23068219672            0.0         -167.438712   \n",
       "\n",
       "   budget_daily  feasible  budget_monthly  ...  start_date  category  \\\n",
       "0      0.112001     False        3.360028  ...  2021-05-15    Saving   \n",
       "1      0.997204     False       29.916127  ...  2021-05-15    Dining   \n",
       "2      0.112001     False        3.360028  ...  2021-05-15    Saving   \n",
       "3      0.997204     False       29.916127  ...  2021-05-15    Dining   \n",
       "4      0.112001     False        3.360028  ...  2021-05-15    Saving   \n",
       "\n",
       "  monthly_avg_income       amount  budget_cut_daily  \\\n",
       "0         154.561288   463.683864          5.040042   \n",
       "1         154.561288  1000.000000          4.154839   \n",
       "2         154.561288   463.683864          5.040042   \n",
       "3         154.561288  1000.000000          4.154839   \n",
       "4         154.561288   463.683864          5.040042   \n",
       "\n",
       "   current_goal_budget_cut_by_day  budget_weekly  \\\n",
       "0                        5.040042       0.784007   \n",
       "1                        4.154839       6.980430   \n",
       "2                        5.040042       0.784007   \n",
       "3                        4.154839       6.980430   \n",
       "4                        5.040042       0.784007   \n",
       "\n",
       "                                            snapshot       goal_name  \\\n",
       "0  {'monthly': {'budget_monthly': 3.360028, 'amou...  Emergency Fund   \n",
       "1  {'monthly': {'budget_monthly': 29.916126709677...    cheaper food   \n",
       "2  {'monthly': {'budget_monthly': 3.360028, 'amou...  Emergency Fund   \n",
       "3  {'monthly': {'budget_monthly': 29.916126709677...    cheaper food   \n",
       "4  {'monthly': {'budget_monthly': 3.360028, 'amou...  Emergency Fund   \n",
       "\n",
       "                            remarks  \n",
       "0  Your Emergency Fund for 3 months  \n",
       "1                               NaN  \n",
       "2  Your Emergency Fund for 3 months  \n",
       "3                               NaN  \n",
       "4  Your Emergency Fund for 3 months  \n",
       "\n",
       "[5 rows x 31 columns]"
      ]
     },
     "execution_count": 5,
     "metadata": {},
     "output_type": "execute_result"
    }
   ],
   "source": [
    "data_budget.head()"
   ]
  },
  {
   "cell_type": "code",
   "execution_count": null,
   "metadata": {},
   "outputs": [],
   "source": [
    "data_budget.columns"
   ]
  },
  {
   "cell_type": "code",
   "execution_count": null,
   "metadata": {},
   "outputs": [],
   "source": [
    "data_budget.describe()"
   ]
  },
  {
   "cell_type": "code",
   "execution_count": null,
   "metadata": {},
   "outputs": [],
   "source": [
    "data_budget.info()"
   ]
  },
  {
   "cell_type": "markdown",
   "metadata": {},
   "source": [
    "### key takeaway for this section: \n",
    "1. no null/missing value(remarks has some null field, but irrelevant)\n",
    "2. 4472 rows, 31 columns\n",
    "3. dtypes: bool(1), float64(15), int64(3), object(12)\n"
   ]
  },
  {
   "cell_type": "markdown",
   "metadata": {},
   "source": [
    "### 1.2 Analyse catogorical columns"
   ]
  },
  {
   "cell_type": "code",
   "execution_count": 37,
   "metadata": {},
   "outputs": [
    {
     "data": {
      "text/plain": [
       "Index(['currency', 'budget', 'status', 'psid', 'created_at', 'due_date',\n",
       "       'updated_at', 'start_date', 'category', 'snapshot', 'goal_name',\n",
       "       'remarks'],\n",
       "      dtype='object')"
      ]
     },
     "execution_count": 37,
     "metadata": {},
     "output_type": "execute_result"
    }
   ],
   "source": [
    "catg_bgt=data_budget.select_dtypes(include=['object']).columns\n",
    "catg_bgt"
   ]
  },
  {
   "cell_type": "markdown",
   "metadata": {},
   "source": [
    "#### 1.2.1 see the details of some import columns"
   ]
  },
  {
   "cell_type": "code",
   "execution_count": 11,
   "metadata": {},
   "outputs": [
    {
     "name": "stdout",
     "output_type": "stream",
     "text": [
      "1287\n",
      "4472\n"
     ]
    }
   ],
   "source": [
    "print(len(pd.unique(data_budget['psid'])))\n",
    "print(len(data_budget))"
   ]
  },
  {
   "cell_type": "code",
   "execution_count": 4,
   "metadata": {},
   "outputs": [
    {
     "name": "stdout",
     "output_type": "stream",
     "text": [
      "currency\n",
      "HKD    3654\n",
      "USD     818\n",
      "Name: currency, dtype: int64 \n",
      "\n",
      "status\n",
      "In progress    3053\n",
      "Completed      1149\n",
      "Failed          270\n",
      "Name: status, dtype: int64 \n",
      "\n",
      "category\n",
      "Dining           1356\n",
      "Saving           1088\n",
      "Education         609\n",
      "Home / Family     540\n",
      "Leisure           339\n",
      "Healthcare        270\n",
      "Property          270\n",
      "Name: category, dtype: int64 \n",
      "\n",
      "goal_name\n",
      "Emergency Fund                    818\n",
      "oreo                              339\n",
      "kakin                             270\n",
      "again                             270\n",
      "iekairitai                        270\n",
      "goal                              270\n",
      "Target12 - mc                     270\n",
      "oeas                              270\n",
      "asdf                              270\n",
      "testing                           270\n",
      "goal1                             270\n",
      "add a infeasible how              270\n",
      "test                              270\n",
      "high                               69\n",
      "oreo journey May 14                69\n",
      "oreo journey impossible May 14     69\n",
      "cheaper food                       69\n",
      "Oreo course                        69\n",
      "Name: goal_name, dtype: int64 \n",
      "\n",
      "remarks\n",
      "Your Emergency Fund for 3 months    818\n",
      "mc buffet                           270\n",
      "I want my app working normal        270\n",
      "Name: remarks, dtype: int64 \n",
      "\n"
     ]
    }
   ],
   "source": [
    "for c in ['currency',  'status',  'category',  'goal_name','remarks']:\n",
    "    print(c)\n",
    "    print(data_budget[c].value_counts(),\"\\n\")"
   ]
  },
  {
   "cell_type": "markdown",
   "metadata": {},
   "source": [
    "### key takeaway for this section: \n",
    "Group by usid, do the average\n",
    "1. convert the currency to HKD\n",
    "2. convert the status to \"In progress\",\"Completed\",\"Failed\"\n",
    "3. convert category to 'Dining', 'Saving', 'Education', 'Home / Family', 'Leisure', 'Healthcare', 'Property'\n",
    "4. Drop goal_name, remark"
   ]
  },
  {
   "cell_type": "markdown",
   "metadata": {},
   "source": [
    "#### 1.2.2 closer look into budget,snapshot(str to dict)"
   ]
  },
  {
   "cell_type": "code",
   "execution_count": 12,
   "metadata": {},
   "outputs": [],
   "source": [
    "# Take the first row as an example\n",
    "import json\n",
    "def extract(string):\n",
    "    string=string.replace(\"\\'\",\"\\\"\")\n",
    "    string=string.replace(\"True\",\"1\")\n",
    "    string=string.replace(\"False\",\"0\")\n",
    "    convertedDict = json.loads(string)\n",
    "    return convertedDict\n",
    "\n",
    "def cvt_dict(convertedDict,indent=0):\n",
    "    for key in convertedDict:\n",
    "        if type(convertedDict[key]) is dict:\n",
    "            print((\" \")*indent, key)\n",
    "            cvt_dict(convertedDict[key],indent+2)\n",
    "        else:\n",
    "            print((\" \")*indent,key,convertedDict[key])\n",
    "            \n",
    "str_budget=data_budget.iloc[0:1]['budget'].values.tolist()[0]\n",
    "str_snapshot=data_budget.iloc[0:1]['snapshot'].values.tolist()[0]\n",
    "budget_dict=extract(str_budget)\n",
    "snapshot_dict=extract(str_snapshot)"
   ]
  },
  {
   "cell_type": "code",
   "execution_count": 16,
   "metadata": {},
   "outputs": [
    {
     "name": "stdout",
     "output_type": "stream",
     "text": [
      "Others_weekly, Others_monthly, Others_daily\n",
      "Leisure_weekly, Leisure_monthly, Leisure_daily\n",
      "Transportation_weekly, Transportation_monthly, Transportation_daily\n",
      "Financials_weekly, Financials_monthly, Financials_daily\n",
      "Dining & Beverage_weekly, Dining & Beverage_monthly, Dining & Beverage_daily\n",
      "Healthcare_weekly, Healthcare_monthly, Healthcare_daily\n",
      "Shopping_weekly, Shopping_monthly, Shopping_daily\n",
      "Home_weekly, Home_monthly, Home_daily\n",
      "\n"
     ]
    }
   ],
   "source": [
    "# check the budget_dict\n",
    "for key in budget_dict:\n",
    "    print(key,budget_dict[key],\"\\n\")"
   ]
  },
  {
   "cell_type": "code",
   "execution_count": null,
   "metadata": {},
   "outputs": [],
   "source": [
    "# check the snapshot_dict\n",
    "cvt_dict(snapshot_dict)"
   ]
  },
  {
   "cell_type": "code",
   "execution_count": null,
   "metadata": {},
   "outputs": [],
   "source": [
    "# Question: what is snapshot? the monthly,quarterly,weekly seem to be same \n",
    "def split_snapshot(ss):\n",
    "    ss=ss[1:-1].replace(\"\\'monthly\\': \",\"\\n\")\n",
    "    ss=ss[1:].replace(\"\\'quarterly\\': \",\"\\n\")\n",
    "    ss=ss.replace(\"\\'weekly\\': \",\"\\n\")\n",
    "    arr=ss.split(\"\\n\")\n",
    "    if arr[0]==arr[1] and arr[0][:-2]==arr[2]:\n",
    "        return True\n",
    "    else:\n",
    "        return False\n",
    "    \n",
    "cnt=0\n",
    "l=len(data_budget['snapshot'])\n",
    "for ele in data_budget['snapshot']:\n",
    "    if split_snapshot(ele):\n",
    "        cnt+=1\n",
    "print('{:.2%} of the monthly,quarterly,weekly budge in snapshot is the same'.format(cnt/l))"
   ]
  },
  {
   "cell_type": "code",
   "execution_count": null,
   "metadata": {},
   "outputs": [],
   "source": [
    "# Question: Difference between monthly data of snapshot and budget_dict\n",
    "set1=snapshot_dict['monthly'].keys()\n",
    "set2=set(data_budget.columns.values)\n",
    "intc=set1&set2\n",
    "print(set1-intc)\n",
    "print(set2-intc)"
   ]
  },
  {
   "cell_type": "markdown",
   "metadata": {},
   "source": [
    "### key takeaway for this section: \n",
    "1. most monthly,quarterly,weekly budge in snapshot is the same\n",
    "2. snapshot do not give addition info\n",
    "3. drop snapshot and so on\n",
    "4. convert budget_dict to these attribute:\n",
    "\n",
    "Others_weekly, Others_monthly, Others_daily\n",
    "Leisure_weekly, Leisure_monthly, Leisure_daily\n",
    "Transportation_weekly, Transportation_monthly, Transportation_daily\n",
    "Financials_weekly, Financials_monthly, Financials_daily\n",
    "Dining & Beverage_weekly, Dining & Beverage_monthly, Dining & Beverage_daily\n",
    "Healthcare_weekly, Healthcare_monthly, Healthcare_daily\n",
    "Shopping_weekly, Shopping_monthly, Shopping_daily\n",
    "Home_weekly, Home_monthly, Home_daily"
   ]
  },
  {
   "cell_type": "code",
   "execution_count": null,
   "metadata": {},
   "outputs": [],
   "source": [
    "whole_str_budget=data_budget['budget'].values.tolist()\n",
    "detail_dict=dict()\n",
    "i=0\n",
    "for single_str_budget in whole_str_budget:\n",
    "    single_budget_dict=extract(single_str_budget)\n",
    "    for key in single_budget_dict:\n",
    "        dd=single_budget_dict[key]\n",
    "        for ele in ['_weekly','_monthly','_daily']:\n",
    "            name=key+ele\n",
    "            if name not in detail_dict.keys():\n",
    "                value=[]\n",
    "            else:\n",
    "                value=detail_dict[name]\n",
    "            value.append(dd['budget'+ele])\n",
    "            detail_dict[name]=value"
   ]
  },
  {
   "cell_type": "markdown",
   "metadata": {},
   "source": [
    "### 1.3 Analyse numerical columns"
   ]
  },
  {
   "cell_type": "code",
   "execution_count": 19,
   "metadata": {},
   "outputs": [],
   "source": [
    "cs=data_budget.select_dtypes(exclude=['object']).columns\n",
    "print(cs)"
   ]
  },
  {
   "cell_type": "code",
   "execution_count": null,
   "metadata": {},
   "outputs": [],
   "source": [
    "data_budget.iloc[0:1][cs]"
   ]
  },
  {
   "cell_type": "markdown",
   "metadata": {},
   "source": [
    "### key takeaway for this section: \n",
    "1. drop goal_id\n",
    "2. convert feasible columns to catogory"
   ]
  },
  {
   "cell_type": "markdown",
   "metadata": {},
   "source": [
    "### 1.4 Clear the Data base on Takeaways"
   ]
  },
  {
   "cell_type": "markdown",
   "metadata": {},
   "source": [
    "#### 1.4.1 do the conversion"
   ]
  },
  {
   "cell_type": "code",
   "execution_count": null,
   "metadata": {},
   "outputs": [],
   "source": [
    "def get_ratio(c_type):\n",
    "    if c_type==\"HKD\":\n",
    "        return 1\n",
    "    elif c_type==\"USD\":\n",
    "        return 7.8\n",
    "    elif c_type==\"EUR\":\n",
    "        return 9.2\n",
    "    elif c_type==\"CNY\":\n",
    "        return 1.2\n",
    "    elif c_type==\"JPY\":\n",
    "        return 0.07\n",
    "    elif c_type==\"GBP\":\n",
    "        return 10.7"
   ]
  },
  {
   "cell_type": "code",
   "execution_count": null,
   "metadata": {},
   "outputs": [],
   "source": [
    "cs=cs.drop(['feasible'])\n",
    "\n",
    "def curreny_conversion(arrLike):  \n",
    "    ratio = get_ratio(arrLike['currency'])\n",
    "    arrLike[cs]*=ratio\n",
    "    return arrLike\n",
    "\n",
    "data_budget = data_budget.apply(curreny_conversion,axis=1)"
   ]
  },
  {
   "cell_type": "code",
   "execution_count": null,
   "metadata": {},
   "outputs": [],
   "source": [
    "cvt_status=pd.get_dummies(data_budget.status)\n",
    "cvt_category=pd.get_dummies(data_budget.category)\n",
    "data_budget.drop(['status','category','currency'],axis=1,inplace=True)"
   ]
  },
  {
   "cell_type": "code",
   "execution_count": null,
   "metadata": {},
   "outputs": [],
   "source": [
    "for kk in detail_dict:\n",
    "    print(kk)\n",
    "    data_budget[kk]=np.array(detail_dict[kk])"
   ]
  },
  {
   "cell_type": "code",
   "execution_count": null,
   "metadata": {},
   "outputs": [],
   "source": [
    "data_budget.drop(['goal_id','budget', 'created_at', 'due_date', 'updated_at', 'start_date',\n",
    "       'snapshot', 'goal_name', 'remarks'],axis=1,inplace=True)"
   ]
  },
  {
   "cell_type": "code",
   "execution_count": null,
   "metadata": {},
   "outputs": [],
   "source": [
    "data_budget = data_budget.join(cvt_status)\n",
    "data_budget = data_budget.join(cvt_category)"
   ]
  },
  {
   "cell_type": "code",
   "execution_count": null,
   "metadata": {},
   "outputs": [],
   "source": [
    "data_budget.select_dtypes(include=['object']).columns"
   ]
  },
  {
   "cell_type": "code",
   "execution_count": null,
   "metadata": {},
   "outputs": [],
   "source": [
    "data_budget.select_dtypes(exclude=['object']).columns"
   ]
  },
  {
   "cell_type": "markdown",
   "metadata": {},
   "source": [
    "#### 1.4.2 Group the data"
   ]
  },
  {
   "cell_type": "code",
   "execution_count": null,
   "metadata": {},
   "outputs": [],
   "source": [
    "budget_set=set(data_budget.columns)\n",
    "account_set=set(data_account.columns)\n",
    "transaction_set=set(data_transaction.columns)\n",
    "v=venn3([budget_set, account_set,transaction_set])\n",
    "v.get_label_by_id('A').set_text('data_budget')\n",
    "v.get_label_by_id('B').set_text('data_account')\n",
    "v.get_label_by_id('C').set_text('data_transaction')\n",
    "plt.show()"
   ]
  },
  {
   "cell_type": "code",
   "execution_count": null,
   "metadata": {},
   "outputs": [],
   "source": [
    "print(budget_set&account_set&transaction_set)"
   ]
  },
  {
   "cell_type": "markdown",
   "metadata": {},
   "source": [
    "### key takeaway for this section: \n",
    "1. use psid to link three dataset"
   ]
  },
  {
   "cell_type": "code",
   "execution_count": null,
   "metadata": {},
   "outputs": [],
   "source": [
    "df=data_budget.groupby('psid').mean()"
   ]
  },
  {
   "cell_type": "code",
   "execution_count": null,
   "metadata": {},
   "outputs": [],
   "source": [
    "df.columns"
   ]
  },
  {
   "cell_type": "code",
   "execution_count": null,
   "metadata": {},
   "outputs": [],
   "source": [
    "df.to_csv(\"out.csv\",index=True)"
   ]
  },
  {
   "cell_type": "markdown",
   "metadata": {},
   "source": [
    "## 2. Analyse data_account"
   ]
  },
  {
   "cell_type": "markdown",
   "metadata": {},
   "source": [
    "### 2.1 Preliminary analyse"
   ]
  },
  {
   "cell_type": "code",
   "execution_count": 23,
   "metadata": {},
   "outputs": [
    {
     "name": "stdout",
     "output_type": "stream",
     "text": [
      "psid ['customer_1']\n",
      "account_id ['482625418285812233']\n",
      "nature ['savings']\n",
      "created_at ['2021-05-15T09:56:49Z']\n",
      "balance_by_day [\"{'2021-04-17': 7864.6, '2021-04-16': 7864.6, '2021-04-15': 7864.6, '2021-04-14': 7864.6, '2021-04-13': 7864.6, '2021-04-12': 7864.6, '2021-04-11': 7864.6, '2021-04-10': 7864.6, '2021-04-09': 6864.6, '2021-04-08': 6864.6, '2021-04-07': 6864.6, '2021-04-06': 6864.6, '2021-04-05': 6864.6, '2021-04-04': 6864.6, '2021-04-03': 8864.6, '2021-04-02': 8864.6, '2021-04-01': 7653.04, '2021-03-31': 9653.04, '2021-03-30': 9653.04, '2021-05-01': 10129.6, '2021-05-02': 8129.6, '2021-05-03': 8129.6, '2021-05-04': 8129.6, '2021-05-05': 8129.6, '2021-05-06': 8129.6, '2021-03-29': 9653.04, '2021-05-07': 8129.6, '2021-03-28': 9653.04, '2021-05-08': 8129.6, '2021-03-27': 9653.03, '2021-05-09': 8129.6, '2021-03-26': 9653.03, '2021-03-25': 10154.03, '2021-03-24': 10154.03, '2021-03-23': 10154.03, '2021-03-22': 10154.03, '2021-03-21': 10154.03, '2021-03-20': 10154.03, '2021-04-30': 10129.6, '2021-05-10': 7929.6, '2021-05-11': 7929.6, '2021-05-12': 7929.6, '2021-05-13': 7929.6, '2021-05-14': 7929.6, '2021-05-15': 7929.6, '2021-03-19': 8954.03, '2021-04-29': 7879.6, '2021-04-28': 7879.6, '2021-04-27': 7879.6, '2021-04-26': 7879.6, '2021-04-25': 7879.6, '2021-04-24': 7864.6, '2021-04-23': 7864.6, '2021-04-22': 7864.6, '2021-04-21': 7864.6, '2021-04-20': 7864.6, '2021-04-19': 7864.6, '2021-04-18': 7864.6}\"]\n",
      "currency_code ['HKD']\n",
      "subtype ['liquid_asset']\n",
      "name ['585-898042-292 HKD']\n",
      "account_name ['HKD Statement Savings - 585-898042-292 HKD']\n",
      "updated_at ['2021-05-15T09:56:49Z']\n",
      "balance [7629.6]\n",
      "display_type ['Saving Account']\n",
      "provider_name ['HSBC']\n",
      "connection_id ['482544630420736718']\n",
      "country_code ['HK']\n",
      "type ['asset']\n",
      "card_type [nan]\n",
      "credit_limit [nan]\n",
      "next_payment_date [nan]\n",
      "positions [nan]\n",
      "available_amount [nan]\n",
      "expiry_date [nan]\n",
      "next_payment_amount [nan]\n",
      "open_date [nan]\n"
     ]
    }
   ],
   "source": [
    "#take the first one as example\n",
    "for i in data_account[0:1].columns:\n",
    "    print(data_account[0:1][i].name,data_account[0:1][i].values)"
   ]
  },
  {
   "cell_type": "code",
   "execution_count": null,
   "metadata": {},
   "outputs": [],
   "source": [
    "data_account.columns"
   ]
  },
  {
   "cell_type": "code",
   "execution_count": null,
   "metadata": {},
   "outputs": [],
   "source": [
    "data_account.describe()"
   ]
  },
  {
   "cell_type": "code",
   "execution_count": null,
   "metadata": {},
   "outputs": [],
   "source": [
    "data_account.info()"
   ]
  },
  {
   "cell_type": "markdown",
   "metadata": {},
   "source": [
    "### 2.2 Analyse catogorical columns"
   ]
  },
  {
   "cell_type": "code",
   "execution_count": 24,
   "metadata": {},
   "outputs": [
    {
     "data": {
      "text/plain": [
       "Index(['psid', 'account_id', 'nature', 'created_at', 'balance_by_day',\n",
       "       'currency_code', 'subtype', 'name', 'account_name', 'updated_at',\n",
       "       'display_type', 'provider_name', 'connection_id', 'country_code',\n",
       "       'type', 'card_type', 'next_payment_date', 'positions', 'expiry_date',\n",
       "       'open_date'],\n",
       "      dtype='object')"
      ]
     },
     "execution_count": 24,
     "metadata": {},
     "output_type": "execute_result"
    }
   ],
   "source": [
    "data_account.select_dtypes(include=['object']).columns"
   ]
  },
  {
   "cell_type": "markdown",
   "metadata": {},
   "source": [
    "#### 2.2.1 see the details of some import columns"
   ]
  },
  {
   "cell_type": "code",
   "execution_count": 25,
   "metadata": {},
   "outputs": [
    {
     "name": "stdout",
     "output_type": "stream",
     "text": [
      "nature\n",
      "savings        1449\n",
      "account         529\n",
      "credit_card     345\n",
      "investment      276\n",
      "card            230\n",
      "insurance        46\n",
      "Name: nature, dtype: int64 \n",
      "\n",
      "currency_code\n",
      "HKD    2047\n",
      "USD     460\n",
      "EUR     207\n",
      "CNY      69\n",
      "JPY      46\n",
      "GBP      46\n",
      "Name: currency_code, dtype: int64 \n",
      "\n",
      "subtype\n",
      "liquid_asset         2576\n",
      "current_liability     253\n",
      "illiquid_asset         46\n",
      "Name: subtype, dtype: int64 \n",
      "\n",
      "display_type\n",
      "Saving Account     1449\n",
      "Credit Card         575\n",
      "Current Account     529\n",
      "Crypto              230\n",
      "Investment           46\n",
      "Insurance            46\n",
      "Name: display_type, dtype: int64 \n",
      "\n",
      "provider_name\n",
      "Hang Seng                    1035\n",
      "HSBC                          667\n",
      "Bank of China (Hong Kong)     414\n",
      "Standard Chartered            322\n",
      "Diginex                       230\n",
      "Fake Bank with Image          207\n",
      "Name: provider_name, dtype: int64 \n",
      "\n",
      "country_code\n",
      "HK       2438\n",
      "equos     230\n",
      "XF        207\n",
      "Name: country_code, dtype: int64 \n",
      "\n",
      "type\n",
      "asset        2622\n",
      "liability     253\n",
      "Name: type, dtype: int64 \n",
      "\n",
      "card_type\n",
      "visa           276\n",
      "master_card    230\n",
      "Name: card_type, dtype: int64 \n",
      "\n",
      "positions\n",
      "[{'symbol': 'USDC', 'industury': '', 'quantity': 0.0, 'mkt_value': 0.0, 'asset_type': 'CRYPTO', 'currency': 'USD', 'avg_price': None}, {'symbol': 'ETH', 'industury': '', 'quantity': 0.0, 'mkt_value': 0.0, 'asset_type': 'CRYPTO', 'currency': 'USD', 'avg_price': None}, {'symbol': 'BTC', 'industury': '', 'quantity': 0.0, 'mkt_value': 0.0, 'asset_type': 'CRYPTO', 'currency': 'USD', 'avg_price': None}, {'symbol': 'EQO', 'industury': '', 'quantity': 0.0, 'mkt_value': 0.0, 'asset_type': 'CRYPTO', 'currency': 'USD', 'avg_price': None}]    230\n",
      "Name: positions, dtype: int64 \n",
      "\n"
     ]
    }
   ],
   "source": [
    "arr=[ 'nature', 'currency_code', 'subtype',  \n",
    "       'display_type', 'provider_name', 'country_code',\n",
    "       'type', 'card_type', 'positions']\n",
    "for a in arr:\n",
    "    print(a)\n",
    "    print(data_account[a].value_counts(),\"\\n\")"
   ]
  },
  {
   "cell_type": "markdown",
   "metadata": {},
   "source": [
    "#### 2.2.2 closer look into type"
   ]
  },
  {
   "cell_type": "code",
   "execution_count": 35,
   "metadata": {},
   "outputs": [
    {
     "data": {
      "text/plain": [
       "array(['customer_136', 'customer_201', 'customer_202', 'customer_203',\n",
       "       'customer_204', 'customer_205', 'customer_206', 'customer_207',\n",
       "       'customer_208', 'customer_209', 'customer_210', 'customer_211',\n",
       "       'customer_212', 'customer_213', 'customer_214', 'customer_215',\n",
       "       'customer_216', 'customer_217', 'customer_218', 'customer_219',\n",
       "       'customer_220', 'customer_221', 'customer_5'], dtype='<U13')"
      ]
     },
     "execution_count": 35,
     "metadata": {},
     "output_type": "execute_result"
    }
   ],
   "source": [
    "# list he customer has more than type > 2\n",
    "arr=data_account.groupby('psid')[\"type\"].agg('count')>2\n",
    "customer=np.array(list(data_account.groupby('psid').groups.keys()))\n",
    "customer[arr]"
   ]
  },
  {
   "cell_type": "code",
   "execution_count": 32,
   "metadata": {},
   "outputs": [
    {
     "name": "stdout",
     "output_type": "stream",
     "text": [
      "0     7629.60\n",
      "1    44169.46\n",
      "2     7629.60\n",
      "3        0.00\n",
      "4     7629.60\n",
      "Name: balance, dtype: float64\n",
      "48     -5581.90\n",
      "66     -2016.13\n",
      "96    -20882.17\n",
      "122   -18990.05\n",
      "128       -0.07\n",
      "Name: balance, dtype: float64\n"
     ]
    }
   ],
   "source": [
    "# Is the liability negetive?\n",
    "df=data_account[data_account['type']=='liability']\n",
    "df2=data_account[data_account['type']=='asset']\n",
    "print(df['balance'][0:5])\n",
    "print(df2[\"balance\"][0:5])"
   ]
  },
  {
   "cell_type": "markdown",
   "metadata": {},
   "source": [
    "### key takeaway for this section: \n",
    "1. convert Unit to HKD\n",
    "2. convert nature to 5 features: savings, account, credit_card, investment,card,insurance\n",
    "3. convert subtype to 3 features: liquid_asset, current_liability, illiquid_asset\n",
    "4. convert type to 3 features: asset, liability, net worth= asset+liability(liability is negetive, asset is postive)\n",
    "5. drop provider_name, country_code, positions, and so on"
   ]
  },
  {
   "cell_type": "markdown",
   "metadata": {},
   "source": [
    "### 2.3 Analyse numerical columns"
   ]
  },
  {
   "cell_type": "code",
   "execution_count": 36,
   "metadata": {},
   "outputs": [
    {
     "data": {
      "text/plain": [
       "Index(['balance', 'credit_limit', 'available_amount', 'next_payment_amount'], dtype='object')"
      ]
     },
     "execution_count": 36,
     "metadata": {},
     "output_type": "execute_result"
    }
   ],
   "source": [
    "data_account.select_dtypes(exclude=['object']).columns"
   ]
  },
  {
   "cell_type": "markdown",
   "metadata": {},
   "source": [
    "### 2.4 Clear the Data base on Takeaways"
   ]
  },
  {
   "cell_type": "code",
   "execution_count": null,
   "metadata": {},
   "outputs": [],
   "source": [
    "def curreny_conversion(arrLike):  \n",
    "    ratio = get_ratio(arrLike['currency_code'])\n",
    "    arrLike[cs]*=ratio\n",
    "    return arrLike\n",
    "\n",
    "data_account = data_account.apply(curreny_conversion,axis=1)"
   ]
  },
  {
   "cell_type": "code",
   "execution_count": null,
   "metadata": {},
   "outputs": [],
   "source": [
    "data_account.select_dtypes(include=['object']).columns"
   ]
  },
  {
   "cell_type": "code",
   "execution_count": null,
   "metadata": {},
   "outputs": [],
   "source": [
    "cvt_nature=pd.get_dummies(data_account.nature)\n",
    "cvt_subtype=pd.get_dummies(data_account.subtype)\n",
    "data_account.drop(['nature','subtype','currency_code'],axis=1,inplace=True)"
   ]
  },
  {
   "cell_type": "code",
   "execution_count": null,
   "metadata": {},
   "outputs": [],
   "source": [
    "data_account.drop(['account_id', 'created_at', 'balance_by_day','name',\n",
    "       'display_type', 'provider_name', 'connection_id', 'country_code',\n",
    "        'card_type', 'next_payment_date', 'positions', 'expiry_date',\n",
    "       'open_date', 'account_name', 'updated_at'],axis=1,inplace=True)"
   ]
  },
  {
   "cell_type": "code",
   "execution_count": null,
   "metadata": {},
   "outputs": [],
   "source": [
    "data_account.columns"
   ]
  },
  {
   "cell_type": "code",
   "execution_count": null,
   "metadata": {},
   "outputs": [],
   "source": [
    "cvt_type=pd.get_dummies(data_account.type)\n",
    "data_account.drop(['type'],axis=1,inplace=True)\n",
    "data_account = data_account.join(cvt_nature)\n",
    "data_account = data_account.join(cvt_subtype)\n",
    "data_account = data_account.join(cvt_type)"
   ]
  },
  {
   "cell_type": "code",
   "execution_count": null,
   "metadata": {},
   "outputs": [],
   "source": [
    "cols=data_account.select_dtypes(include=['uint8']).columns\n",
    "for cc in cols:\n",
    "    data_account[cc]=data_account[cc]*data_account['balance']"
   ]
  },
  {
   "cell_type": "code",
   "execution_count": null,
   "metadata": {},
   "outputs": [],
   "source": [
    "# the liability value is negetive, so use sum is ok\n",
    "df2=data_account.groupby('psid').sum()"
   ]
  },
  {
   "cell_type": "code",
   "execution_count": null,
   "metadata": {},
   "outputs": [],
   "source": [
    "df2.head()"
   ]
  },
  {
   "cell_type": "markdown",
   "metadata": {},
   "source": [
    "## 3. Analyse data_transaction"
   ]
  },
  {
   "cell_type": "markdown",
   "metadata": {},
   "source": [
    "### 3.1 Preliminary analyse"
   ]
  },
  {
   "cell_type": "code",
   "execution_count": 40,
   "metadata": {},
   "outputs": [
    {
     "name": "stdout",
     "output_type": "stream",
     "text": [
      "psid ['customer_1']\n",
      "transaction_id [4.82625e+17]\n",
      "account_id [4.83e+17]\n",
      "created_at ['2021-05-15T09:56:49Z']\n",
      "mode ['normal']\n",
      "status ['posted']\n",
      "currency_code ['HKD']\n",
      "areix_category ['Financials']\n",
      "updated_at ['2021-05-15T09:56:49Z']\n",
      "account_name ['HKD Statement Savings - 585-898042-292 HKD']\n",
      "made_on ['3/19/2021']\n",
      "category ['transfer']\n",
      "amount [1200.]\n",
      "provider_name ['HSBC']\n",
      "description ['FROM USER N31957683621(19MAR21)']\n",
      "country_code ['HK']\n",
      "merchant_id [nan]\n",
      "merchant [nan]\n"
     ]
    }
   ],
   "source": [
    "for i in data_transaction[0:1].columns:\n",
    "    print(data_transaction[0:1][i].name,data_transaction[0:1][i].values)"
   ]
  },
  {
   "cell_type": "code",
   "execution_count": 39,
   "metadata": {},
   "outputs": [
    {
     "data": {
      "text/plain": [
       "Index(['psid', 'transaction_id', 'account_id', 'created_at', 'mode', 'status',\n",
       "       'currency_code', 'areix_category', 'updated_at', 'account_name',\n",
       "       'made_on', 'category', 'amount', 'provider_name', 'description',\n",
       "       'country_code', 'merchant_id', 'merchant'],\n",
       "      dtype='object')"
      ]
     },
     "execution_count": 39,
     "metadata": {},
     "output_type": "execute_result"
    }
   ],
   "source": [
    "data_transaction.columns"
   ]
  },
  {
   "cell_type": "code",
   "execution_count": null,
   "metadata": {},
   "outputs": [],
   "source": [
    "data_transaction.describe()"
   ]
  },
  {
   "cell_type": "code",
   "execution_count": null,
   "metadata": {},
   "outputs": [],
   "source": [
    "data_transaction.info()"
   ]
  },
  {
   "cell_type": "markdown",
   "metadata": {},
   "source": [
    "### 3.2 Analyse catogorical columns"
   ]
  },
  {
   "cell_type": "code",
   "execution_count": 42,
   "metadata": {},
   "outputs": [
    {
     "data": {
      "text/plain": [
       "Index(['psid', 'created_at', 'mode', 'status', 'currency_code',\n",
       "       'areix_category', 'updated_at', 'account_name', 'made_on', 'category',\n",
       "       'provider_name', 'description', 'country_code', 'merchant_id',\n",
       "       'merchant'],\n",
       "      dtype='object')"
      ]
     },
     "execution_count": 42,
     "metadata": {},
     "output_type": "execute_result"
    }
   ],
   "source": [
    "catg_tsc=data_transaction.select_dtypes(include=['object']).columns\n",
    "catg_tsc"
   ]
  },
  {
   "cell_type": "markdown",
   "metadata": {},
   "source": [
    "#### 3.2.1 see the details of some import columns"
   ]
  },
  {
   "cell_type": "code",
   "execution_count": 43,
   "metadata": {},
   "outputs": [
    {
     "name": "stdout",
     "output_type": "stream",
     "text": [
      "mode\n",
      "normal      61548\n",
      "transfer     2346\n",
      "fee           345\n",
      "Name: mode, dtype: int64 \n",
      "\n",
      "status\n",
      "posted     60513\n",
      "pending     3726\n",
      "Name: status, dtype: int64 \n",
      "\n",
      "currency_code\n",
      "HKD    63066\n",
      "USD      897\n",
      "EUR      276\n",
      "Name: currency_code, dtype: int64 \n",
      "\n",
      "areix_category\n",
      "Transportation       20493\n",
      "Dining & Beverage    17112\n",
      "Financials           13731\n",
      "Leisure               5175\n",
      "Others                5106\n",
      "Shopping              1794\n",
      "Home                   621\n",
      "Healthcare             207\n",
      "Name: areix_category, dtype: int64 \n",
      "\n",
      "category\n",
      "taxi                        20493\n",
      "food_and_dining             11385\n",
      "transfer                     7939\n",
      "hotel                        4347\n",
      "uncategorized                3864\n",
      "cafes_and_restaurants        3036\n",
      "groceries                    2484\n",
      "income                       1242\n",
      "investment_income            1035\n",
      "service_fee                  1032\n",
      "travel                        828\n",
      "clothing                      759\n",
      "shopping                      759\n",
      "fees_and_charges              628\n",
      "phone                         621\n",
      "business_services             621\n",
      "provider_fee                  528\n",
      "paycheck                      497\n",
      "advertising                   483\n",
      "bonus                         414\n",
      "electronics_and_software      276\n",
      "alcohol_and_bars              207\n",
      "gifts                         138\n",
      "personal_care                 138\n",
      "doctor                         69\n",
      "taxes                          52\n",
      "education                      51\n",
      "tuition                        48\n",
      "loans                          48\n",
      "property_insurance             42\n",
      "student_loan                   39\n",
      "health_insurance               38\n",
      "insurance                      36\n",
      "car_insurance                  33\n",
      "life_insurance                 29\n",
      "Name: category, dtype: int64 \n",
      "\n",
      "provider_name\n",
      "Standard Chartered           51612\n",
      "Hang Seng                     5175\n",
      "HSBC                          4623\n",
      "Bank of China (Hong Kong)     1725\n",
      "Fake Bank with Image          1104\n",
      "Name: provider_name, dtype: int64 \n",
      "\n",
      "country_code\n",
      "HK    63135\n",
      "XF     1104\n",
      "Name: country_code, dtype: int64 \n",
      "\n",
      "merchant\n",
      "Deliveroo               483\n",
      "Uber                    483\n",
      "Birdie Mobile           276\n",
      "7-eleven                207\n",
      "楹哄眿姝﹁數                  138\n",
      "The Night Market        138\n",
      "缇庡績瑗块                   138\n",
      "鐧句匠                     138\n",
      "Hktvmall                138\n",
      "Lcx                     138\n",
      "Starbucks               138\n",
      "Linkedin                138\n",
      "Klook                   138\n",
      "Prudential Hong Kong    138\n",
      "Uniqlo                  138\n",
      "Google                  138\n",
      "Kerry Hotel             138\n",
      "On-yasai                138\n",
      "Teawood                 138\n",
      "璀氫粩涓夊摜                  138\n",
      "Facebook                138\n",
      "Tommy Hilfiger          138\n",
      "Foodpanda               138\n",
      "钀瀵                      138\n",
      "Apple Inc               138\n",
      "Hyatt Hotels            138\n",
      "Ftlife Insurance         69\n",
      "Name: merchant, dtype: int64 \n",
      "\n"
     ]
    }
   ],
   "source": [
    "arr=[  'mode', 'status', 'currency_code',\n",
    "       'areix_category',  'category',\n",
    "       'provider_name', 'country_code',\n",
    "       'merchant']\n",
    "for a in arr:\n",
    "    print(a)\n",
    "    print(data_transaction[a].value_counts(),\"\\n\")"
   ]
  },
  {
   "cell_type": "markdown",
   "metadata": {},
   "source": [
    "### key takeaway for this section: \n",
    "1. drop all catogory columns except 'mode','status','areix_category'\n",
    "2. convert to HKD"
   ]
  },
  {
   "cell_type": "markdown",
   "metadata": {},
   "source": [
    "### 3.3 Analyse numerical columns"
   ]
  },
  {
   "cell_type": "code",
   "execution_count": 45,
   "metadata": {},
   "outputs": [
    {
     "data": {
      "text/plain": [
       "Index(['transaction_id', 'account_id', 'amount'], dtype='object')"
      ]
     },
     "execution_count": 45,
     "metadata": {},
     "output_type": "execute_result"
    }
   ],
   "source": [
    "data_transaction.select_dtypes(exclude=['object']).columns"
   ]
  },
  {
   "cell_type": "markdown",
   "metadata": {},
   "source": [
    "### key takeaway for this section: \n",
    "1. drop all catogory columns except 'amount'"
   ]
  },
  {
   "cell_type": "markdown",
   "metadata": {},
   "source": [
    "### 3.4 Clear the Data base on Takeaways"
   ]
  },
  {
   "cell_type": "code",
   "execution_count": null,
   "metadata": {},
   "outputs": [],
   "source": [
    "data_transaction.drop(['transaction_id', 'account_id'],axis=1,inplace=True)"
   ]
  },
  {
   "cell_type": "code",
   "execution_count": null,
   "metadata": {},
   "outputs": [],
   "source": [
    "cs='amount'\n",
    "data_transaction = data_transaction.apply(curreny_conversion,axis=1)"
   ]
  },
  {
   "cell_type": "code",
   "execution_count": null,
   "metadata": {},
   "outputs": [],
   "source": [
    "cvt_areix_category=pd.get_dummies(data_transaction.areix_category)\n",
    "data_transaction.drop(['created_at', 'status', 'updated_at', 'account_name', 'made_on',\n",
    "       'category', 'provider_name', 'description', 'country_code',\n",
    "       'merchant_id', 'merchant','mode','areix_category','currency_code'],axis=1,inplace=True)"
   ]
  },
  {
   "cell_type": "code",
   "execution_count": null,
   "metadata": {},
   "outputs": [],
   "source": [
    "data_transaction.columns"
   ]
  },
  {
   "cell_type": "code",
   "execution_count": null,
   "metadata": {},
   "outputs": [],
   "source": [
    "data_transaction=data_transaction.join(cvt_areix_category)"
   ]
  },
  {
   "cell_type": "code",
   "execution_count": null,
   "metadata": {},
   "outputs": [],
   "source": [
    "cols=data_transaction.select_dtypes(include=['uint8']).columns\n",
    "for cc in cols:\n",
    "    data_transaction[cc]=data_transaction[cc]*data_transaction['amount']"
   ]
  },
  {
   "cell_type": "code",
   "execution_count": null,
   "metadata": {},
   "outputs": [],
   "source": [
    "df3=data_transaction.groupby('psid').sum()"
   ]
  },
  {
   "cell_type": "code",
   "execution_count": null,
   "metadata": {},
   "outputs": [],
   "source": [
    "df3.head()"
   ]
  },
  {
   "cell_type": "markdown",
   "metadata": {},
   "source": [
    "## 4. Analyse dataset together"
   ]
  },
  {
   "cell_type": "code",
   "execution_count": 54,
   "metadata": {},
   "outputs": [
    {
     "name": "stdout",
     "output_type": "stream",
     "text": [
      "['./out.csv', './out2.csv', './out3.csv']\n"
     ]
    }
   ],
   "source": [
    "file_paths=(glob.glob(\"./*.csv\"))\n",
    "file_paths.sort();\n",
    "print(file_paths)\n",
    "df_budget=pd.read_csv(file_paths[0])\n",
    "df_account=pd.read_csv(file_paths[1])\n",
    "df_transaction=pd.read_csv(file_paths[2])"
   ]
  },
  {
   "cell_type": "code",
   "execution_count": 13,
   "metadata": {},
   "outputs": [
    {
     "name": "stdout",
     "output_type": "stream",
     "text": [
      "1287 1334 1334\n"
     ]
    }
   ],
   "source": [
    "s1=set(df_budget['psid'])\n",
    "s2=set(df_account['psid'])\n",
    "s3=set(df_transaction['psid'])\n",
    "print(len(s1),len(s2),len(s3))"
   ]
  },
  {
   "cell_type": "code",
   "execution_count": 55,
   "metadata": {},
   "outputs": [],
   "source": [
    "df_budget=df_budget.set_index('psid')\n",
    "df_account=df_account.set_index('psid')\n",
    "df_transaction=df_transaction.set_index('psid')"
   ]
  },
  {
   "cell_type": "code",
   "execution_count": 59,
   "metadata": {},
   "outputs": [],
   "source": [
    "del_cumtomers=list(s2-s1)\n",
    "df_account.drop(index=del_cumtomers,inplace=True)\n",
    "df_transaction.drop(index=del_cumtomers,inplace=True)"
   ]
  },
  {
   "cell_type": "code",
   "execution_count": 65,
   "metadata": {},
   "outputs": [
    {
     "data": {
      "image/png": "[encoded data removed]",
      "text/plain": [
       "<Figure size 432x288 with 1 Axes>"
      ]
     },
     "metadata": {},
     "output_type": "display_data"
    }
   ],
   "source": [
    "budget_set=set(df_budget.columns)\n",
    "account_set=set(df_account.columns)\n",
    "transaction_set=set(df_transaction.columns)\n",
    "v=venn3([budget_set, account_set,transaction_set])\n",
    "v.get_label_by_id('A').set_text('data_budget')\n",
    "v.get_label_by_id('B').set_text('data_account')\n",
    "v.get_label_by_id('C').set_text('data_transaction')\n",
    "plt.show()"
   ]
  },
  {
   "cell_type": "code",
   "execution_count": 66,
   "metadata": {},
   "outputs": [
    {
     "name": "stdout",
     "output_type": "stream",
     "text": [
      "{'Leisure', 'Healthcare', 'amount'}\n"
     ]
    }
   ],
   "source": [
    "print(budget_set&transaction_set)"
   ]
  },
  {
   "cell_type": "code",
   "execution_count": 67,
   "metadata": {},
   "outputs": [],
   "source": [
    "df_budget=df_budget.rename({'amount':'amount_bgt','Leisure':'Leisure_bgt','Healthcare':'Healthcare_bgt','Dining':'Dining_bgt', \n",
    "                            'Education':'Education_bgt' , 'Home / Family':'Home_bgt', 'Property':'Property_bgt'}, axis='columns')"
   ]
  },
  {
   "cell_type": "code",
   "execution_count": 68,
   "metadata": {},
   "outputs": [],
   "source": [
    "df=df_account.join(df_budget)\n",
    "df=df.join(df_transaction)"
   ]
  },
  {
   "cell_type": "code",
   "execution_count": 70,
   "metadata": {},
   "outputs": [
    {
     "data": {
      "text/plain": [
       "(1287, 76)"
      ]
     },
     "execution_count": 70,
     "metadata": {},
     "output_type": "execute_result"
    }
   ],
   "source": [
    "df.shape"
   ]
  },
  {
   "cell_type": "code",
   "execution_count": 71,
   "metadata": {},
   "outputs": [],
   "source": [
    "df.to_csv(\"../data/clean_data.csv\")"
   ]
  }
 ],
 "metadata": {
  "kernelspec": {
   "display_name": "Python 3",
   "language": "python",
   "name": "python3"
  },
  "language_info": {
   "codemirror_mode": {
    "name": "ipython",
    "version": 3
   },
   "file_extension": ".py",
   "mimetype": "text/x-python",
   "name": "python",
   "nbconvert_exporter": "python",
   "pygments_lexer": "ipython3",
   "version": "3.8.8"
  }
 },
 "nbformat": 4,
 "nbformat_minor": 4
}
